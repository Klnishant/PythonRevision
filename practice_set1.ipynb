{
 "cells": [
  {
   "cell_type": "markdown",
   "metadata": {},
   "source": [
    "Q1. Write a Python program that defines a function called \"add_numbers\" that takes two arguments (i.e.,\n",
    "numbers) and returns their sum. Within the function, add the two numbers together and return the result\n",
    "using the return statement. Call the function with the values 5 and 6, and print out the returned result.\n",
    "This will result in the addition of 5 and 6, with the output of the program being the sum of these two\n",
    "numbers."
   ]
  },
  {
   "cell_type": "code",
   "execution_count": 1,
   "metadata": {},
   "outputs": [
    {
     "name": "stdout",
     "output_type": "stream",
     "text": [
      "11\n"
     ]
    }
   ],
   "source": [
    "def add_numbers(num1,num2):\n",
    "    result = num1+num2\n",
    "    return result\n",
    "\n",
    "print(add_numbers(5,6))"
   ]
  },
  {
   "cell_type": "markdown",
   "metadata": {},
   "source": [
    "Q2. Write a Python program that calculates the square root of a given number using a built-in function.\n",
    "Specifically, the program should take an integer or float input from the user, calculate its square root\n",
    "using the 'sqrt()' function from the 'math' module, and print out the result to the user. As an example,\n",
    "calculate the square root of the number 625 using this program, which should output the value of 25."
   ]
  },
  {
   "cell_type": "code",
   "execution_count": 5,
   "metadata": {},
   "outputs": [
    {
     "name": "stdout",
     "output_type": "stream",
     "text": [
      "Squre root of this number is: 25.0\n"
     ]
    }
   ],
   "source": [
    "import math\n",
    "num = input(\"Enter The Number\")\n",
    "num = float(num)\n",
    "print(\"Squre root of this number is:\" , math.sqrt(num))"
   ]
  },
  {
   "cell_type": "markdown",
   "metadata": {},
   "source": [
    "Q3.Write a program that prints all prime numbers between 0 to 50."
   ]
  },
  {
   "cell_type": "code",
   "execution_count": 13,
   "metadata": {},
   "outputs": [
    {
     "name": "stdout",
     "output_type": "stream",
     "text": [
      "2\n",
      "3\n",
      "5\n",
      "7\n",
      "11\n",
      "13\n",
      "17\n",
      "19\n",
      "23\n",
      "29\n",
      "31\n",
      "37\n",
      "41\n",
      "43\n",
      "47\n"
     ]
    }
   ],
   "source": [
    "def print_prime_numbers():\n",
    "    for num in range(2,51):\n",
    "        isprime=True\n",
    "        for i in range(2,num):\n",
    "            if(num%i==0):\n",
    "                isprime=False\n",
    "                break;\n",
    "        if(isprime):\n",
    "            print(num)\n",
    "\n",
    "print_prime_numbers()\n"
   ]
  },
  {
   "cell_type": "markdown",
   "metadata": {},
   "source": [
    "Q4.How can we swap the values of three variables (let's say a, b, and c) without using a fourth variable?\n",
    "For example, if we have a=5, b=8, and c=9, how can we obtain a=9, b=5, and c=8? The challenge is to\n",
    "perform this operation without using an additional variable to store any of the values during the\n",
    "swapping process."
   ]
  },
  {
   "cell_type": "code",
   "execution_count": 18,
   "metadata": {},
   "outputs": [
    {
     "name": "stdout",
     "output_type": "stream",
     "text": [
      "9 5 8\n"
     ]
    }
   ],
   "source": [
    "def swap(a,b,c):\n",
    "    a=a+b+c\n",
    "    b=a-(b+c)\n",
    "    c=a-(b+c)\n",
    "    a=a-(b+c)\n",
    "\n",
    "    print(a,b,c)\n",
    "\n",
    "a=5\n",
    "b=8\n",
    "c=9\n",
    "swap(a,b,c)"
   ]
  },
  {
   "cell_type": "markdown",
   "metadata": {},
   "source": [
    "Q5. Can you write a program that determines the nature of a given number (in this case, 87) as being\n",
    "positive, negative, or zero? The program should be designed to take the number as input and perform the\n",
    "necessary calculations to determine if the number is positive (i.e., greater than zero), negative (i.e., less\n",
    "than zero), or zero (i.e., equal to zero). The output of the program should indicate which of these three\n",
    "categories the given number falls into."
   ]
  },
  {
   "cell_type": "code",
   "execution_count": 19,
   "metadata": {},
   "outputs": [
    {
     "name": "stdout",
     "output_type": "stream",
     "text": [
      "Positive\n"
     ]
    }
   ],
   "source": [
    "def nature_of_number(num):\n",
    "    if(num==0):\n",
    "        print(\"Zero\")\n",
    "    elif(num>0):\n",
    "        print(\"Positive\")\n",
    "    else:\n",
    "        print(\"Negetive\")\n",
    "\n",
    "num = input()\n",
    "\n",
    "nature_of_number(float(num))\n"
   ]
  },
  {
   "cell_type": "markdown",
   "metadata": {},
   "source": [
    "Q6. How can you create a program that determines whether a given number (in this case, 98) is even or\n",
    "odd? The program should be designed to take the number as input and perform the necessary\n",
    "calculations to determine whether it is divisible by two. If the number is divisible by two without leaving a\n",
    "remainder, it is an even number, and if there is a remainder, it is an odd number. The output of the\n",
    "program should indicate whether the given number is even or odd."
   ]
  },
  {
   "cell_type": "code",
   "execution_count": 20,
   "metadata": {},
   "outputs": [
    {
     "name": "stdout",
     "output_type": "stream",
     "text": [
      "Odd number\n"
     ]
    }
   ],
   "source": [
    "def find_even_odd(num):\n",
    "    if(num%2==0):\n",
    "        print(\"Even number\")\n",
    "    else:\n",
    "        print(\"Odd number\")\n",
    "\n",
    "num = input()\n",
    "\n",
    "find_even_odd(float(num))"
   ]
  },
  {
   "cell_type": "markdown",
   "metadata": {},
   "source": [
    "Q7.Write a program for sum of digits.the digits are 76543 and the output should be 25."
   ]
  },
  {
   "cell_type": "code",
   "execution_count": 23,
   "metadata": {},
   "outputs": [
    {
     "name": "stdout",
     "output_type": "stream",
     "text": [
      "25\n"
     ]
    }
   ],
   "source": [
    "def sum_of_digits(num):\n",
    "    sum=0\n",
    "    while(num>0):\n",
    "        sum += num%10\n",
    "        num=int(num/10)\n",
    "    return sum\n",
    "\n",
    "num = 76543\n",
    "\n",
    "print(sum_of_digits(num))"
   ]
  },
  {
   "cell_type": "markdown",
   "metadata": {},
   "source": [
    "Q8.Write a program for reversing the given number 5436 and the output should be 6345."
   ]
  },
  {
   "cell_type": "code",
   "execution_count": 26,
   "metadata": {},
   "outputs": [
    {
     "name": "stdout",
     "output_type": "stream",
     "text": [
      "6345\n"
     ]
    }
   ],
   "source": [
    "def reverse_num(num):\n",
    "    rev_num=0\n",
    "    while(num>0):\n",
    "        rev_num = rev_num*10+num%10\n",
    "        num=int(num/10)\n",
    "    return rev_num\n",
    "\n",
    "num = 5436\n",
    "\n",
    "print(reverse_num(num))"
   ]
  },
  {
   "cell_type": "markdown",
   "metadata": {},
   "source": [
    "Q9.Write a program to check if a given number 371 is an Armstrong number?"
   ]
  },
  {
   "cell_type": "code",
   "execution_count": 27,
   "metadata": {},
   "outputs": [
    {
     "name": "stdout",
     "output_type": "stream",
     "text": [
      "not an armstong number\n"
     ]
    }
   ],
   "source": [
    "def reverse_num(num):\n",
    "    rev_num=0\n",
    "    while(num>0):\n",
    "        rev_num = rev_num*10+num%10\n",
    "        num=int(num/10)\n",
    "    return rev_num\n",
    "\n",
    "def is_armstrong(num):\n",
    "    rev_num = reverse_num(num)\n",
    "    if(num==rev_num):\n",
    "        print('Number is aemstrong')\n",
    "    else:\n",
    "        print('not an armstong number')\n",
    "\n",
    "num=371\n",
    "is_armstrong(num)"
   ]
  },
  {
   "cell_type": "markdown",
   "metadata": {},
   "source": [
    "Q10.Write a program the given year is 1996, a leap year."
   ]
  },
  {
   "cell_type": "code",
   "execution_count": 28,
   "metadata": {},
   "outputs": [
    {
     "name": "stdout",
     "output_type": "stream",
     "text": [
      "Given year is leap year\n"
     ]
    }
   ],
   "source": [
    "def is_leap_year(year):\n",
    "    if(year%4==0):\n",
    "        print(\"Given year is leap year\")\n",
    "    else:\n",
    "        print(\"Given year is not a leap year\")\n",
    "\n",
    "year=1996\n",
    "\n",
    "is_leap_year(year)"
   ]
  },
  {
   "cell_type": "code",
   "execution_count": null,
   "metadata": {},
   "outputs": [],
   "source": []
  }
 ],
 "metadata": {
  "kernelspec": {
   "display_name": "base",
   "language": "python",
   "name": "python3"
  },
  "language_info": {
   "codemirror_mode": {
    "name": "ipython",
    "version": 3
   },
   "file_extension": ".py",
   "mimetype": "text/x-python",
   "name": "python",
   "nbconvert_exporter": "python",
   "pygments_lexer": "ipython3",
   "version": "3.10.9"
  }
 },
 "nbformat": 4,
 "nbformat_minor": 2
}
