{
 "cells": [
  {
   "cell_type": "markdown",
   "metadata": {},
   "source": [
    "Q1. Write a program that prints the first 10 even numbers using a for loop."
   ]
  },
  {
   "cell_type": "code",
   "execution_count": 1,
   "metadata": {},
   "outputs": [
    {
     "name": "stdout",
     "output_type": "stream",
     "text": [
      "First 10 Integers\n",
      "2\n",
      "4\n",
      "6\n",
      "8\n",
      "10\n",
      "12\n",
      "14\n",
      "16\n",
      "18\n",
      "20\n"
     ]
    }
   ],
   "source": [
    "print(\"First 10 Integers\")\n",
    "for i in range(1,21):\n",
    "    if(i%2==0):\n",
    "        print(i)"
   ]
  },
  {
   "cell_type": "markdown",
   "metadata": {},
   "source": [
    "Q2. Write a program that takes a list of strings and prints out each string in reverse order using a for loop."
   ]
  },
  {
   "cell_type": "code",
   "execution_count": 7,
   "metadata": {},
   "outputs": [
    {
     "name": "stdout",
     "output_type": "stream",
     "text": [
      "olleh\n",
      "dlrow\n",
      "gnimoc\n",
      "noos\n"
     ]
    }
   ],
   "source": [
    "lst=[\"hello\",\"world\",\"coming\",\"soon\"]\n",
    "\n",
    "for word in lst:\n",
    "    rev_word=''\n",
    "    for char in range(0,len(word)):\n",
    "        rev_word += word[len(word)-1-char]\n",
    "    print(rev_word)"
   ]
  },
  {
   "cell_type": "markdown",
   "metadata": {},
   "source": [
    "Q3. Write a program that prints the multiplication table of a given number using a for loop."
   ]
  },
  {
   "cell_type": "code",
   "execution_count": 9,
   "metadata": {},
   "outputs": [
    {
     "name": "stdout",
     "output_type": "stream",
     "text": [
      "Multiplication table of given number:\n",
      "7 X 1 = 7\n",
      "7 X 2 = 14\n",
      "7 X 3 = 21\n",
      "7 X 4 = 28\n",
      "7 X 5 = 35\n",
      "7 X 6 = 42\n",
      "7 X 7 = 49\n",
      "7 X 8 = 56\n",
      "7 X 9 = 63\n",
      "7 X 10 = 70\n"
     ]
    }
   ],
   "source": [
    "num = input(\"Enter the number\")\n",
    "num=int(num)\n",
    "print(\"Multiplication table of given number:\")\n",
    "for i in range(1,11):\n",
    "    print(f\"{num} X {i} = {num*i}\")"
   ]
  },
  {
   "cell_type": "markdown",
   "metadata": {},
   "source": [
    "Q4. Write a program that takes a list of integers as input and returns the sum of all the numbers in the list\n",
    "using a for loop."
   ]
  },
  {
   "cell_type": "code",
   "execution_count": 10,
   "metadata": {},
   "outputs": [
    {
     "name": "stdout",
     "output_type": "stream",
     "text": [
      "Sum of the integers present in list is 55\n"
     ]
    }
   ],
   "source": [
    "lst=[1,2,3,4,5,6,7,8,9,10]\n",
    "\n",
    "sum=0\n",
    "\n",
    "for num in lst:\n",
    "    sum +=num\n",
    "\n",
    "print(f\"Sum of the integers present in list is {sum}\")"
   ]
  },
  {
   "cell_type": "markdown",
   "metadata": {},
   "source": [
    "Q5. Write a program that prompts the user for a positive integer and then prints out all the prime\n",
    "numbers up to that number using a for loop."
   ]
  },
  {
   "cell_type": "code",
   "execution_count": 19,
   "metadata": {},
   "outputs": [
    {
     "name": "stdout",
     "output_type": "stream",
     "text": [
      "3\n",
      "5\n",
      "7\n",
      "11\n",
      "13\n",
      "17\n",
      "19\n",
      "23\n",
      "29\n",
      "31\n",
      "37\n",
      "41\n",
      "43\n",
      "47\n",
      "53\n"
     ]
    }
   ],
   "source": [
    "num = input(\"Enter the positive Integers:\")\n",
    "num = int(num)\n",
    "\n",
    "for i in range(2,num+1):\n",
    "    for j in range(2,i):\n",
    "        if(i%j==0):\n",
    "            break\n",
    "        if j==i-1:\n",
    "            print(i)"
   ]
  },
  {
   "cell_type": "markdown",
   "metadata": {},
   "source": [
    "Q6. Write a program that prompts the user to enter a password until the correct password is entered\n",
    "using a while loop."
   ]
  },
  {
   "cell_type": "code",
   "execution_count": 20,
   "metadata": {},
   "outputs": [
    {
     "name": "stdout",
     "output_type": "stream",
     "text": [
      "congratulation you crack the password\n"
     ]
    }
   ],
   "source": [
    "password=\"password123\"\n",
    "\n",
    "while(True):\n",
    "    pin=input(\"Enter the password\")\n",
    "    if(pin==password):\n",
    "        print(\"congratulation you crack the password\")\n",
    "        break"
   ]
  },
  {
   "cell_type": "markdown",
   "metadata": {},
   "source": [
    "Q7. Write a program that takes a list of strings and prints out each string in reverse order using a while\n",
    "loop."
   ]
  },
  {
   "cell_type": "code",
   "execution_count": 21,
   "metadata": {},
   "outputs": [
    {
     "name": "stdout",
     "output_type": "stream",
     "text": [
      "olleh\n",
      "dlrow\n",
      "gnimoc\n",
      "noos\n"
     ]
    }
   ],
   "source": [
    "lst=[\"hello\",\"world\",\"coming\",\"soon\"]\n",
    "\n",
    "for word in lst:\n",
    "    rev_word=''\n",
    "    for char in range(0,len(word)):\n",
    "        rev_word += word[len(word)-1-char]\n",
    "    print(rev_word)"
   ]
  },
  {
   "cell_type": "markdown",
   "metadata": {},
   "source": [
    "Q8. Write a program that prompts the user to enter a positive integer and then prints out all the Fibonacci\n",
    "numbers up to that number using a while loop."
   ]
  },
  {
   "cell_type": "code",
   "execution_count": 25,
   "metadata": {},
   "outputs": [
    {
     "name": "stdout",
     "output_type": "stream",
     "text": [
      "1\n",
      "1\n",
      "2\n",
      "3\n",
      "5\n",
      "8\n",
      "13\n"
     ]
    }
   ],
   "source": [
    "num=input(\"Enter the number:\")\n",
    "num=int(num)\n",
    "\n",
    "prev_fib=0\n",
    "curr_fib=1\n",
    "next_fib=curr_fib+prev_fib\n",
    "\n",
    "while(curr_fib<=num):\n",
    "    print(curr_fib)\n",
    "    prev_fib=curr_fib\n",
    "    curr_fib=next_fib\n",
    "    next_fib=curr_fib+prev_fib\n"
   ]
  },
  {
   "cell_type": "markdown",
   "metadata": {},
   "source": [
    "Q9. Write a program that takes a list of integers as input and returns the product of all the numbers in the\n",
    "list using a while loop."
   ]
  },
  {
   "cell_type": "code",
   "execution_count": 26,
   "metadata": {},
   "outputs": [
    {
     "name": "stdout",
     "output_type": "stream",
     "text": [
      "Product of the integers of the given list: 120\n"
     ]
    }
   ],
   "source": [
    "lst = [1,2,3,4,5]\n",
    "i=0\n",
    "product=1\n",
    "while(i<len(lst)):\n",
    "    product *= lst[i]\n",
    "    i +=1\n",
    "\n",
    "print(f\"Product of the integers of the given list: {product}\")"
   ]
  },
  {
   "cell_type": "markdown",
   "metadata": {},
   "source": [
    "Q10. Write a program that prompts the user to enter a positive integer and then prints out the factorial of\n",
    "that number using a while loop."
   ]
  },
  {
   "cell_type": "code",
   "execution_count": 29,
   "metadata": {},
   "outputs": [
    {
     "name": "stdout",
     "output_type": "stream",
     "text": [
      "5040\n"
     ]
    }
   ],
   "source": [
    "num = int(input(\"Enter the Number:\"))\n",
    "fact=1\n",
    "while(num>0):\n",
    "    fact *=num\n",
    "    num -=1\n",
    "print(fact)"
   ]
  },
  {
   "cell_type": "code",
   "execution_count": null,
   "metadata": {},
   "outputs": [],
   "source": []
  }
 ],
 "metadata": {
  "kernelspec": {
   "display_name": "base",
   "language": "python",
   "name": "python3"
  },
  "language_info": {
   "codemirror_mode": {
    "name": "ipython",
    "version": 3
   },
   "file_extension": ".py",
   "mimetype": "text/x-python",
   "name": "python",
   "nbconvert_exporter": "python",
   "pygments_lexer": "ipython3",
   "version": "3.10.9"
  }
 },
 "nbformat": 4,
 "nbformat_minor": 2
}
