{
 "cells": [
  {
   "cell_type": "markdown",
   "metadata": {},
   "source": [
    "Q1. Write a Python program to create two processes that print out the numbers from 1 to 10\n",
    "simultaneously."
   ]
  },
  {
   "cell_type": "code",
   "execution_count": 19,
   "metadata": {},
   "outputs": [],
   "source": [
    "from multiprocessing import Process\n",
    "import os\n",
    "import time\n",
    "\n",
    "def print_num(process_name):\n",
    "    for i in range(1,11):\n",
    "        print(f\"{process_name} : {i}\")\n",
    "        time.sleep(0.1)"
   ]
  },
  {
   "cell_type": "code",
   "execution_count": 21,
   "metadata": {},
   "outputs": [
    {
     "name": "stdout",
     "output_type": "stream",
     "text": [
      "process-1 : 1\n",
      "process-1 : 2\n",
      "process-1 : 3\n",
      "process-1 : 4\n",
      "process-1 : 5\n",
      "process-1 : 6\n",
      "process-1 : 7\n",
      "process-1 : 8\n",
      "process-1 : 9\n",
      "process-1 : 10\n",
      "process-2 : 1\n",
      "process-2 : 2\n",
      "process-2 : 3\n",
      "process-2 : 4\n",
      "process-2 : 5\n",
      "process-2 : 6\n",
      "process-2 : 7\n",
      "process-2 : 8\n",
      "process-2 : 9\n",
      "process-2 : 10\n"
     ]
    }
   ],
   "source": [
    "if __name__==\"__main__\":\n",
    "    process1 = Process(target=print_num(\"process-1\"))\n",
    "    process2 = Process(target=print_num(\"process-2\"))\n",
    "\n",
    "    process1.start()\n",
    "    process2.start()\n",
    "\n",
    "    process1.join()\n",
    "    process2.join()"
   ]
  },
  {
   "cell_type": "markdown",
   "metadata": {},
   "source": [
    "Q2. Write a Python program that creates four processes and computes the sum of the first 1000 integers\n",
    "using multiprocessing."
   ]
  },
  {
   "cell_type": "code",
   "execution_count": 25,
   "metadata": {},
   "outputs": [
    {
     "name": "stdout",
     "output_type": "stream",
     "text": [
      "Process for range 1 to 250 calculated partial sum: 31375\n",
      "Process for range 251 to 500 calculated partial sum: 93875\n",
      "Process for range 501 to 750 calculated partial sum: 156375\n",
      "Process for range 751 to 1000 calculated partial sum: 218875\n",
      "Total sum of the first 1000 integers: 500500\n"
     ]
    }
   ],
   "source": [
    "import multiprocessing\n",
    "\n",
    "# Function to compute the sum of a range of numbers\n",
    "def compute_sum(start, end, result, index):\n",
    "    result[index] = sum(range(start, end + 1))\n",
    "    print(f\"Process for range {start} to {end} calculated partial sum: {result[index]}\")\n",
    "\n",
    "def main():\n",
    "    total_sum = 0\n",
    "    num_processes = 4\n",
    "    n = 1000\n",
    "    segment_size = n // num_processes\n",
    "\n",
    "    # Shared array to store results\n",
    "    result = multiprocessing.Array('i', num_processes)\n",
    "\n",
    "    # List to keep track of processes\n",
    "    processes = []\n",
    "\n",
    "    for i in range(num_processes):\n",
    "        start = i * segment_size + 1\n",
    "        end = (i + 1) * segment_size if i < num_processes - 1 else n\n",
    "        process = multiprocessing.Process(target=compute_sum(start, end, result, i))\n",
    "        processes.append(process)\n",
    "        process.start()\n",
    "\n",
    "    # Wait for all processes to finish\n",
    "    for process in processes:\n",
    "        process.join()\n",
    "\n",
    "    # Combine results\n",
    "    total_sum = sum(result)\n",
    "    print(f\"Total sum of the first {n} integers: {total_sum}\")\n",
    "\n",
    "if __name__ == \"__main__\":\n",
    "    main()\n"
   ]
  },
  {
   "cell_type": "markdown",
   "metadata": {},
   "source": [
    "Q3. Write a Python program that creates two processes and communicates between them using a Queue.\n",
    "The first process should send a list of numbers to the second process, which should calculate the sum of\n",
    "the numbers and send it back to the first process."
   ]
  },
  {
   "cell_type": "code",
   "execution_count": 1,
   "metadata": {},
   "outputs": [],
   "source": [
    "from multiprocessing import Process,Queue,set_start_method\n",
    "\n",
    "def sender(queue):\n",
    "    numbers = [1,2,3,4,5,6,7,8,9,10]\n",
    "    print(f\"Sender sending {numbers}\")\n",
    "\n",
    "    queue.put(numbers)\n",
    "\n",
    "    result = queue.get()\n",
    "\n",
    "    print(f\"Sender receiving sum: {result} from receiver\")\n",
    "\n",
    "def receiver(queue):\n",
    "    numbers = queue.get()\n",
    "\n",
    "    print(f\"Receiver receive numbers:{numbers}\")\n",
    "\n",
    "    total = sum(total)\n",
    "    print(f\"Receiver calculating Sum : {total}\")\n",
    "\n",
    "    queue.put(total)\n"
   ]
  },
  {
   "cell_type": "code",
   "execution_count": null,
   "metadata": {},
   "outputs": [
    {
     "name": "stdout",
     "output_type": "stream",
     "text": [
      "Sender sending [1, 2, 3, 4, 5, 6, 7, 8, 9, 10]\n",
      "Sender receiving sum: [1, 2, 3, 4, 5, 6, 7, 8, 9, 10] from receiver\n"
     ]
    }
   ],
   "source": [
    "if __name__=='__main__':\n",
    "    set_start_method(\"spawn\")\n",
    "\n",
    "    queue = Queue()\n",
    "\n",
    "    process1=Process(target=sender(queue))\n",
    "    process2=Process(target=receiver(queue))\n",
    "\n",
    "    process1.start()\n",
    "    process2.start()\n",
    "\n",
    "    process1.join()\n",
    "    process2.join()\n",
    "\n",
    "# Multiprocessing or multithreading do not work properly in jupyter noteboook"
   ]
  },
  {
   "cell_type": "markdown",
   "metadata": {},
   "source": [
    "Q4. Write a program to find the maximum number in a list of lists using multiprocessing."
   ]
  },
  {
   "cell_type": "code",
   "execution_count": null,
   "metadata": {},
   "outputs": [],
   "source": [
    "import multiprocessing\n",
    "\n",
    "def find_max(sublist):\n",
    "    return max(sublist)\n",
    "\n",
    "if __name__ == \"__main__\":\n",
    "    lists = [[1, 5, 9], [12, 15, 2], [7, 8, 10], [4, 6, 11]]\n",
    "    \n",
    "    with multiprocessing.Pool() as pool:\n",
    "        max_values = pool.map(find_max, lists)\n",
    "    \n",
    "    overall_max = max(max_values)\n",
    "    print(f\"Maximum value: {overall_max}\")\n"
   ]
  },
  {
   "cell_type": "markdown",
   "metadata": {},
   "source": [
    "Q5. Write a Python program that uses the Pool class from the multiprocessing module to calculate the\n",
    "squares of a list of integers."
   ]
  },
  {
   "cell_type": "code",
   "execution_count": null,
   "metadata": {},
   "outputs": [],
   "source": [
    "import multiprocessing\n",
    "\n",
    "def square(x):\n",
    "    return x ** 2\n",
    "\n",
    "if __name__ == \"__main__\":\n",
    "    numbers = [1, 2, 3, 4, 5]\n",
    "\n",
    "    with multiprocessing.Pool() as pool:\n",
    "        squares = pool.map(square, numbers)\n",
    "    \n",
    "    print(f\"Squares: {squares}\")\n"
   ]
  },
  {
   "cell_type": "markdown",
   "metadata": {},
   "source": [
    "Q6. How do you create a new process using the multiprocessing module in Python?"
   ]
  },
  {
   "cell_type": "code",
   "execution_count": 2,
   "metadata": {},
   "outputs": [
    {
     "name": "stdout",
     "output_type": "stream",
     "text": [
      "Hello from a new process!\n"
     ]
    }
   ],
   "source": [
    "import multiprocessing\n",
    "\n",
    "def print_message():\n",
    "    print(\"Hello from a new process!\")\n",
    "\n",
    "if __name__ == \"__main__\":\n",
    "    process = multiprocessing.Process(target=print_message())\n",
    "    process.start()\n",
    "    process.join()\n"
   ]
  },
  {
   "cell_type": "markdown",
   "metadata": {},
   "source": [
    "Q7. How do you use a Pool to execute a function with multiple arguments in parallel?"
   ]
  },
  {
   "cell_type": "code",
   "execution_count": null,
   "metadata": {},
   "outputs": [],
   "source": [
    "import multiprocessing\n",
    "\n",
    "def add_numbers(a, b):\n",
    "    return a + b\n",
    "\n",
    "if __name__ == \"__main__\":\n",
    "    args = [(1, 2), (3, 4), (5, 6)]\n",
    "\n",
    "    with multiprocessing.Pool() as pool:\n",
    "        results = pool.starmap(add_numbers, args)\n",
    "    \n",
    "    print(f\"Results: {results}\")\n"
   ]
  },
  {
   "cell_type": "markdown",
   "metadata": {},
   "source": [
    "Q8. Write a Python program to calculate the sum of squares of numbers in a list using multiprocessing."
   ]
  },
  {
   "cell_type": "code",
   "execution_count": null,
   "metadata": {},
   "outputs": [],
   "source": [
    "import multiprocessing\n",
    "\n",
    "def square(x):\n",
    "    return x ** 2\n",
    "\n",
    "if __name__ == \"__main__\":\n",
    "    numbers = [1, 2, 3, 4, 5]\n",
    "    \n",
    "    with multiprocessing.Pool() as pool:\n",
    "        squares = pool.map(square, numbers)\n",
    "    \n",
    "    total_sum = sum(squares)\n",
    "    print(f\"Sum of squares: {total_sum}\")\n"
   ]
  },
  {
   "cell_type": "markdown",
   "metadata": {},
   "source": [
    "Q9. Write a Python program that uses the multiprocessing module to calculate the sum of a large list of\n",
    "integers."
   ]
  },
  {
   "cell_type": "code",
   "execution_count": null,
   "metadata": {},
   "outputs": [],
   "source": [
    "import multiprocessing\n",
    "\n",
    "def sum_chunk(chunk):\n",
    "    return sum(chunk)\n",
    "\n",
    "if __name__ == \"__main__\":\n",
    "    large_list = list(range(1, 100001))  # Large list of numbers\n",
    "    num_chunks = 10\n",
    "    chunk_size = len(large_list) // num_chunks\n",
    "    chunks = [large_list[i:i + chunk_size] for i in range(0, len(large_list), chunk_size)]\n",
    "    \n",
    "    with multiprocessing.Pool() as pool:\n",
    "        chunk_sums = pool.map(sum_chunk, chunks)\n",
    "    \n",
    "    total_sum = sum(chunk_sums)\n",
    "    print(f\"Total sum: {total_sum}\")\n"
   ]
  },
  {
   "cell_type": "markdown",
   "metadata": {},
   "source": [
    "Q10. Write a Python program that uses the multiprocessing module to parallelize the computation of the\n",
    "factorial of a number."
   ]
  },
  {
   "cell_type": "code",
   "execution_count": null,
   "metadata": {},
   "outputs": [],
   "source": [
    "import multiprocessing\n",
    "import math\n",
    "\n",
    "def factorial_part(start, end):\n",
    "    result = 1\n",
    "    for i in range(start, end + 1):\n",
    "        result *= i\n",
    "    return result\n",
    "\n",
    "if __name__ == \"__main__\":\n",
    "    number = 10  # Example: Factorial of 10\n",
    "    num_processes = 4\n",
    "    chunk_size = number // num_processes\n",
    "    ranges = [(i * chunk_size + 1, (i + 1) * chunk_size) for i in range(num_processes)]\n",
    "    ranges[-1] = (ranges[-1][0], number)  # Ensure the last chunk includes the remaining numbers\n",
    "    \n",
    "    with multiprocessing.Pool() as pool:\n",
    "        partial_results = pool.starmap(factorial_part, ranges)\n",
    "    \n",
    "    factorial_result = math.prod(partial_results)\n",
    "    print(f\"Factorial of {number}: {factorial_result}\")\n"
   ]
  }
 ],
 "metadata": {
  "kernelspec": {
   "display_name": "base",
   "language": "python",
   "name": "python3"
  },
  "language_info": {
   "codemirror_mode": {
    "name": "ipython",
    "version": 3
   },
   "file_extension": ".py",
   "mimetype": "text/x-python",
   "name": "python",
   "nbconvert_exporter": "python",
   "pygments_lexer": "ipython3",
   "version": "3.10.9"
  }
 },
 "nbformat": 4,
 "nbformat_minor": 2
}
