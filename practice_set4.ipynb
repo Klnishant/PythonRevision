{
 "cells": [
  {
   "cell_type": "markdown",
   "metadata": {},
   "source": [
    "Q1. Create a class called \"Person\" with properties for \"name\", \"age\", and \"gender\". Create an object of this\n",
    "class and print out its properties."
   ]
  },
  {
   "cell_type": "code",
   "execution_count": 1,
   "metadata": {},
   "outputs": [],
   "source": [
    "class Person:\n",
    "    def __init__(self,name,age,gender):\n",
    "        self.name=name\n",
    "        self.age=age\n",
    "        self.gender=gender"
   ]
  },
  {
   "cell_type": "code",
   "execution_count": 2,
   "metadata": {},
   "outputs": [
    {
     "name": "stdout",
     "output_type": "stream",
     "text": [
      "Name:  nishant\n",
      "Age:  22\n",
      "Gender:  male\n"
     ]
    }
   ],
   "source": [
    "person = Person(\"nishant\",22,\"male\")\n",
    "\n",
    "print(\"Name: \",person.name)\n",
    "print(\"Age: \",person.age)\n",
    "print(\"Gender: \",person.gender)"
   ]
  },
  {
   "cell_type": "markdown",
   "metadata": {},
   "source": [
    "Q2. Write a Python class called \"Rectangle\" with attributes for \"width\" and \"height\". Implement methods\n",
    "to calculate the area and perimeter of the rectangle. Create an instance of this class and use it to print out\n",
    "the rectangle's area and perimeter."
   ]
  },
  {
   "cell_type": "code",
   "execution_count": 7,
   "metadata": {},
   "outputs": [],
   "source": [
    "class Rectangle:\n",
    "    def __init__(self,width,height):\n",
    "        self.width=width\n",
    "        self.height=height\n",
    "\n",
    "    def area(self):\n",
    "        return self.width*self.height\n",
    "    \n",
    "    def perimetere(self):\n",
    "        return 2*(self.width+self.height)"
   ]
  },
  {
   "cell_type": "code",
   "execution_count": 8,
   "metadata": {},
   "outputs": [
    {
     "name": "stdout",
     "output_type": "stream",
     "text": [
      "Area:  20\n",
      "Peremetre:  18\n"
     ]
    }
   ],
   "source": [
    "rectangle = Rectangle(4,5)\n",
    "\n",
    "print(\"Area: \",rectangle.area())\n",
    "print(\"Peremetre: \",rectangle.perimetere())"
   ]
  },
  {
   "cell_type": "markdown",
   "metadata": {},
   "source": [
    "Q3. Write a Python class called \"BankAccount\" with attributes for \"balance\" and \"interest_rate\".\n",
    "Implement methods to deposit and withdraw money from the account, as well as to calculate the interest\n",
    "earned on the balance based on the interest rate. Create an instance of this class and use it to test out the\n",
    "implemented methods for deposit, withdrawal, and interest calculation."
   ]
  },
  {
   "cell_type": "code",
   "execution_count": 9,
   "metadata": {},
   "outputs": [],
   "source": [
    "class BankAccount:\n",
    "    def __init__(self,balance,interest_rate):\n",
    "        self.balance=balance\n",
    "        self.interest_rate = interest_rate\n",
    "\n",
    "    def deposit(self,ammount):\n",
    "        self.balance +=ammount\n",
    "        return self.balance\n",
    "    \n",
    "    def withdraw(self,ammount):\n",
    "        self.balance -= ammount\n",
    "        return self.balance\n",
    "\n",
    "    def interest(self,year):\n",
    "        interests = (self.balance*self.interest_rate*year)/100\n",
    "        return interests"
   ]
  },
  {
   "cell_type": "code",
   "execution_count": 10,
   "metadata": {},
   "outputs": [
    {
     "name": "stdout",
     "output_type": "stream",
     "text": [
      "Deposit Money: 1500\n",
      "Withdraw Money: 1000\n",
      "Interest Earned: 240.0\n"
     ]
    }
   ],
   "source": [
    "bank_account1 = BankAccount(1000,12)\n",
    "\n",
    "print(f\"Deposit Money: {bank_account1.deposit(500)}\")\n",
    "print(f\"Withdraw Money: {bank_account1.withdraw(500)}\")\n",
    "print(f\"Interest Earned: {bank_account1.interest(2)}\")"
   ]
  },
  {
   "cell_type": "markdown",
   "metadata": {},
   "source": [
    "Q4. Write a Python class called \"Animal\" with attributes for \"name\" and \"species\". Create a subclass of\n",
    "\"Animal\" called \"Dog\" with additional attributes for \"breed\" and \"owner\". Implement both classes with\n",
    "appropriate methods and constructors to initialise their properties. Create instances of both classes and\n",
    "use them to print out the various properties of the animals and dogs, such as their names, species,\n",
    "breeds, and owners."
   ]
  },
  {
   "cell_type": "code",
   "execution_count": 17,
   "metadata": {},
   "outputs": [],
   "source": [
    "class Animal:\n",
    "    def __init__(self,name,species):\n",
    "        self.name = name\n",
    "        self.species = species"
   ]
  },
  {
   "cell_type": "code",
   "execution_count": 18,
   "metadata": {},
   "outputs": [],
   "source": [
    "class Dog(Animal):\n",
    "    def __init__(self,name,species,breed,owner):\n",
    "        super().__init__(name,species)\n",
    "        self.breed = breed\n",
    "        self.owner = owner\n"
   ]
  },
  {
   "cell_type": "code",
   "execution_count": 19,
   "metadata": {},
   "outputs": [],
   "source": [
    "dog1 = Dog(\"Sheru\",\"GermanShephard\",\"German\",\"Me\")"
   ]
  },
  {
   "cell_type": "code",
   "execution_count": 20,
   "metadata": {},
   "outputs": [
    {
     "name": "stdout",
     "output_type": "stream",
     "text": [
      "Dog Name: Sheru\n",
      "Dog Species: GermanShephard\n",
      "Dog Breed: German\n",
      "Dog Owner: Me\n"
     ]
    }
   ],
   "source": [
    "print(f\"Dog Name: {dog1.name}\")\n",
    "print(f\"Dog Species: {dog1.species}\")\n",
    "print(f\"Dog Breed: {dog1.breed}\")\n",
    "print(f\"Dog Owner: {dog1.owner}\")"
   ]
  },
  {
   "cell_type": "code",
   "execution_count": 21,
   "metadata": {},
   "outputs": [],
   "source": [
    "animal = Animal(\"Dog\",\"GermanShephard\")"
   ]
  },
  {
   "cell_type": "code",
   "execution_count": 23,
   "metadata": {},
   "outputs": [
    {
     "name": "stdout",
     "output_type": "stream",
     "text": [
      "Animal Name: Dog\n",
      "Animal Species: GermanShephard\n"
     ]
    }
   ],
   "source": [
    "print(f\"Animal Name: {animal.name}\")\n",
    "print(f\"Animal Species: {animal.species}\")"
   ]
  },
  {
   "cell_type": "markdown",
   "metadata": {},
   "source": [
    "Q5. Create a class called \"Car\" with properties for \"make\", \"model\", and \"year\". Create a subclass of \"Car\"\n",
    "called \"ElectricCar\" with additional properties for \"battery_size\" and \"range\". Create objects of both\n",
    "classes and print out their properties."
   ]
  },
  {
   "cell_type": "code",
   "execution_count": 24,
   "metadata": {},
   "outputs": [],
   "source": [
    "class Car:\n",
    "    def __init__(self,make,model,year):\n",
    "        self.make = make\n",
    "        self.model = model\n",
    "        self.year = year\n",
    "\n",
    "class ElectricCar(Car):\n",
    "    def __init__(self, make, model, year, battery_size, range):\n",
    "        super().__init__(make, model, year)\n",
    "        self.battery_size = battery_size\n",
    "        self.range = range"
   ]
  },
  {
   "cell_type": "code",
   "execution_count": 25,
   "metadata": {},
   "outputs": [],
   "source": [
    "car = Car(\"tyota\",\"fortuner\",2022)"
   ]
  },
  {
   "cell_type": "code",
   "execution_count": 26,
   "metadata": {},
   "outputs": [
    {
     "name": "stdout",
     "output_type": "stream",
     "text": [
      "Car Maker: tyota\n",
      "Car Model: fortuner\n",
      "Car Making Year: 2022\n"
     ]
    }
   ],
   "source": [
    "print(f\"Car Maker: {car.make}\")\n",
    "print(f\"Car Model: {car.model}\")\n",
    "print(f\"Car Making Year: {car.year}\")"
   ]
  },
  {
   "cell_type": "code",
   "execution_count": 27,
   "metadata": {},
   "outputs": [],
   "source": [
    "electric_car = ElectricCar(\"tesla\",\"cybertruck\",2023,\"5000 kw-h\",\"700 km\")"
   ]
  },
  {
   "cell_type": "code",
   "execution_count": 28,
   "metadata": {},
   "outputs": [
    {
     "name": "stdout",
     "output_type": "stream",
     "text": [
      "Car Maker: tesla\n",
      "Car Model: cybertruck\n",
      "Car Making Year: 2023\n",
      "Car Battery Capacity: 5000 kw-h\n",
      "Car Range: 700 km\n"
     ]
    }
   ],
   "source": [
    "print(f\"Car Maker: {electric_car.make}\")\n",
    "print(f\"Car Model: {electric_car.model}\")\n",
    "print(f\"Car Making Year: {electric_car.year}\")\n",
    "print(f\"Car Battery Capacity: {electric_car.battery_size}\")\n",
    "print(f\"Car Range: {electric_car.range}\")"
   ]
  },
  {
   "cell_type": "markdown",
   "metadata": {},
   "source": [
    "Q6. Create a class called \"Student\" with properties for \"name\" and \"id\". Create a subclass of \"Student\"\n",
    "called \"GraduateStudent\" with additional properties for \"advisor\" and \"research_area\". Create objects of\n",
    "both classes and print out their properties."
   ]
  },
  {
   "cell_type": "code",
   "execution_count": 30,
   "metadata": {},
   "outputs": [],
   "source": [
    "class Student:\n",
    "    def __init__(self,name,id):\n",
    "        self.name=name\n",
    "        self.id=id\n",
    "\n",
    "class GraduateStudent(Student):\n",
    "    def __init__(self, name, id,advisor,research_area):\n",
    "        super().__init__(name, id)\n",
    "        self.advisor=advisor\n",
    "        self.research_area=research_area"
   ]
  },
  {
   "cell_type": "code",
   "execution_count": 32,
   "metadata": {},
   "outputs": [],
   "source": [
    "student1=Student(\"prashant\",101)\n",
    "graduate_student1=GraduateStudent(\"Nishant\",102,\"Kaushal\",\"Physics\")"
   ]
  },
  {
   "cell_type": "code",
   "execution_count": 33,
   "metadata": {},
   "outputs": [
    {
     "name": "stdout",
     "output_type": "stream",
     "text": [
      "Student Name: prashant\n",
      "Student id: 101\n"
     ]
    }
   ],
   "source": [
    "print(f\"Student Name: {student1.name}\")\n",
    "print(f\"Student id: {student1.id}\")"
   ]
  },
  {
   "cell_type": "code",
   "execution_count": 34,
   "metadata": {},
   "outputs": [
    {
     "name": "stdout",
     "output_type": "stream",
     "text": [
      "Student Name: Nishant\n",
      "Student id: 102\n",
      "Student Advisor: Kaushal\n",
      "Student Research Area: Physics\n"
     ]
    }
   ],
   "source": [
    "print(f\"Student Name: {graduate_student1.name}\")\n",
    "print(f\"Student id: {graduate_student1.id}\")\n",
    "print(f\"Student Advisor: {graduate_student1.advisor}\")\n",
    "print(f\"Student Research Area: {graduate_student1.research_area}\")"
   ]
  },
  {
   "cell_type": "markdown",
   "metadata": {},
   "source": [
    "Q7. Create a class called \"Shape\" with methods to calculate the area and perimeter of the shape. Create\n",
    "subclasses of \"Shape\" for \"Rectangle\", \"Circle\", and \"Triangle\" with their own methods for calculating area\n",
    "and perimeter. Create objects of each class and print out their area and perimeter."
   ]
  },
  {
   "cell_type": "code",
   "execution_count": 42,
   "metadata": {},
   "outputs": [],
   "source": [
    "class Shape:\n",
    "    def __init__(self):\n",
    "        pass\n",
    "    def area(self):\n",
    "        print(\"Area not defined for generic shape\")\n",
    "    \n",
    "    def perimetere(self,width,height):\n",
    "        print(\"Perimetere not defined for generic shape\")\n",
    "    \n",
    "class Rectangle(Shape):\n",
    "    def __init__(self,width,height):\n",
    "        super().__init__()\n",
    "        self.width=width\n",
    "        self.height=height\n",
    "\n",
    "    def area(self):\n",
    "        return self.width*self.height\n",
    "    \n",
    "    def perimetere(self):\n",
    "        return 2*(self.width+self.height)\n",
    "    \n",
    "class Circle(Shape):\n",
    "    def __init__(self,radius):\n",
    "        super().__init__()\n",
    "        self.radius=radius\n",
    "\n",
    "    def area(self):\n",
    "        return 3.14*self.radius**2\n",
    "    \n",
    "    def perimetere(self):\n",
    "        return 2*(3.14*self.radius)\n",
    "    \n",
    "class Triangle(Shape):\n",
    "    def __init__(self,a,b,c):\n",
    "        super().__init__()\n",
    "        self.a=a\n",
    "        self.b=b\n",
    "        self.c=c\n",
    "\n",
    "    def area(self,base,height):\n",
    "        return 1/2*(base*height)\n",
    "    \n",
    "    def perimetere(self):\n",
    "        return self.a+self.b+self.c"
   ]
  },
  {
   "cell_type": "code",
   "execution_count": 43,
   "metadata": {},
   "outputs": [],
   "source": [
    "rectangle =Rectangle(4,5)\n",
    "circle = Circle(7)\n",
    "triangle = Triangle(3,4,5)"
   ]
  },
  {
   "cell_type": "code",
   "execution_count": 45,
   "metadata": {},
   "outputs": [
    {
     "name": "stdout",
     "output_type": "stream",
     "text": [
      "Area of Rectangle: 20\n",
      "Perimetere of Rectangle: 18\n",
      "Area of Circle: 153.86\n",
      "perimetere of Circle: 43.96\n",
      "Area of Triangle: 6.0\n",
      "Perimetere of Triangle: 12\n"
     ]
    }
   ],
   "source": [
    "print(f\"Area of Rectangle: {rectangle.area()}\")\n",
    "print(f\"Perimetere of Rectangle: {rectangle.perimetere()}\")\n",
    "print(f\"Area of Circle: {circle.area()}\")\n",
    "print(f\"perimetere of Circle: {circle.perimetere()}\")\n",
    "print(f\"Area of Triangle: {triangle.area(3,4)}\")\n",
    "print(f\"Perimetere of Triangle: {triangle.perimetere()}\")"
   ]
  },
  {
   "cell_type": "markdown",
   "metadata": {},
   "source": [
    "Q8. Create a class called \"Employee\" with properties for \"name\", \"id\", and \"salary\". Add methods to give\n",
    "the employee a raise and to calculate their annual salary. Create objects of this class and test out the\n",
    "methods."
   ]
  },
  {
   "cell_type": "code",
   "execution_count": 46,
   "metadata": {},
   "outputs": [],
   "source": [
    "class Employee:\n",
    "    def __init__(self,name,id,salary):\n",
    "        self.name=name\n",
    "        self.id=id\n",
    "        self.salary=salary\n",
    "    \n",
    "    def calculate_sallery(self,ammount):\n",
    "        return self.salary*12 + ammount"
   ]
  },
  {
   "cell_type": "code",
   "execution_count": 47,
   "metadata": {},
   "outputs": [],
   "source": [
    "employee1 = Employee(\"Nishant\",101,25000)"
   ]
  },
  {
   "cell_type": "code",
   "execution_count": 48,
   "metadata": {},
   "outputs": [
    {
     "name": "stdout",
     "output_type": "stream",
     "text": [
      "Annual salary with raise: 305000\n"
     ]
    }
   ],
   "source": [
    "print(f\"Annual salary with raise: {employee1.calculate_sallery(5000)}\")"
   ]
  },
  {
   "cell_type": "markdown",
   "metadata": {},
   "source": [
    "Q9. Create a class called \"Book\" with properties for \"title\", \"author\", and \"publisher\". Create a subclass of\n",
    "\"Book\" called \"Ebook\" with additional properties for \"file_format\" and \"file_size\". Create objects of both\n",
    "classes and print out their properties."
   ]
  },
  {
   "cell_type": "code",
   "execution_count": 49,
   "metadata": {},
   "outputs": [],
   "source": [
    "class Book:\n",
    "    def __init__(self,title,author,publisher):\n",
    "        self.title=title\n",
    "        self.author=author\n",
    "        self.publisher=publisher\n",
    "\n",
    "class Ebook(Book):\n",
    "    def __init__(self, title, author, publisher,file_format,file_size):\n",
    "        super().__init__(title, author, publisher)\n",
    "        self.file_format=file_format\n",
    "        self.file_size=file_size"
   ]
  },
  {
   "cell_type": "code",
   "execution_count": 51,
   "metadata": {},
   "outputs": [],
   "source": [
    "book1=Book(\"Data Science Begginer\",\"Jhon Doe\",\"Oraly\")\n",
    "ebook1=Ebook(\"Python Advance\",\"Charlie\",\"Arihant\",\"PDF\",\"20 MB\")"
   ]
  },
  {
   "cell_type": "code",
   "execution_count": 52,
   "metadata": {},
   "outputs": [
    {
     "name": "stdout",
     "output_type": "stream",
     "text": [
      "Book Title: Data Science Begginer\n",
      "Book Author: Jhon Doe\n",
      "Book Publisher: Oraly\n",
      "Ebook Title: Python Advance\n",
      "Ebook Author: Charlie\n",
      "Ebook Publisher: Arihant\n",
      "Ebook File Format: 20 MB\n",
      "Ebook File Size: PDF\n"
     ]
    }
   ],
   "source": [
    "print(f\"Book Title: {book1.title}\")\n",
    "print(f\"Book Author: {book1.author}\")\n",
    "print(f\"Book Publisher: {book1.publisher}\")\n",
    "\n",
    "print(f\"Ebook Title: {ebook1.title}\")\n",
    "print(f\"Ebook Author: {ebook1.author}\")\n",
    "print(f\"Ebook Publisher: {ebook1.publisher}\")\n",
    "print(f\"Ebook File Format: {ebook1.file_size}\")\n",
    "print(f\"Ebook File Size: {ebook1.file_format}\")\n"
   ]
  },
  {
   "cell_type": "markdown",
   "metadata": {},
   "source": [
    "Q10. Create a class called \"Bank\" with properties for \"name\" and \"accounts\". Add methods to create new\n",
    "accounts, deposit and withdraw money from accounts, and to calculate the total balance of all accounts.\n",
    "Create an object of this class and test out the methods."
   ]
  },
  {
   "cell_type": "code",
   "execution_count": 53,
   "metadata": {},
   "outputs": [],
   "source": [
    "class Bank:\n",
    "    def __init__(self,name,accounts):\n",
    "        self.name=name\n",
    "        self.accunts= accounts\n",
    "    \n",
    "    def create_account(self,customer_name,account_number,balance):\n",
    "        self.customer_name=customer_name\n",
    "        self.account_number=account_number\n",
    "        self.balance=balance\n",
    "\n",
    "    def deposit(self,account_number,ammount):\n",
    "        if(self.account_number==account_number):\n",
    "            self.balance += ammount\n",
    "            print(\"Ammount deposited successfully\")\n",
    "        else:\n",
    "            print(\"customer not found\")\n",
    "    \n",
    "    def withdraw(self,account_number,ammount):\n",
    "        if(self.account_number==account_number):\n",
    "            self.balance -= ammount\n",
    "            print(\"Ammount withdraw successfully\")\n",
    "        else:\n",
    "            print(\"customer not found\")"
   ]
  },
  {
   "cell_type": "code",
   "execution_count": 54,
   "metadata": {},
   "outputs": [],
   "source": [
    "bank1=Bank(\"HDFC\",\"Saving\")\n",
    "bank1.create_account(\"Nishant\",1001,500)"
   ]
  },
  {
   "cell_type": "code",
   "execution_count": 55,
   "metadata": {},
   "outputs": [
    {
     "name": "stdout",
     "output_type": "stream",
     "text": [
      "customer not found\n"
     ]
    }
   ],
   "source": [
    "bank1.deposit(100,500)"
   ]
  },
  {
   "cell_type": "code",
   "execution_count": 56,
   "metadata": {},
   "outputs": [
    {
     "name": "stdout",
     "output_type": "stream",
     "text": [
      "Ammount deposited successfully\n"
     ]
    }
   ],
   "source": [
    "bank1.deposit(1001,500)"
   ]
  },
  {
   "cell_type": "code",
   "execution_count": 57,
   "metadata": {},
   "outputs": [
    {
     "name": "stdout",
     "output_type": "stream",
     "text": [
      "customer not found\n"
     ]
    }
   ],
   "source": [
    "bank1.withdraw(100,500)"
   ]
  },
  {
   "cell_type": "code",
   "execution_count": 58,
   "metadata": {},
   "outputs": [
    {
     "name": "stdout",
     "output_type": "stream",
     "text": [
      "Ammount withdraw successfully\n"
     ]
    }
   ],
   "source": [
    "bank1.withdraw(1001,500)"
   ]
  },
  {
   "cell_type": "code",
   "execution_count": null,
   "metadata": {},
   "outputs": [],
   "source": []
  }
 ],
 "metadata": {
  "kernelspec": {
   "display_name": "base",
   "language": "python",
   "name": "python3"
  },
  "language_info": {
   "codemirror_mode": {
    "name": "ipython",
    "version": 3
   },
   "file_extension": ".py",
   "mimetype": "text/x-python",
   "name": "python",
   "nbconvert_exporter": "python",
   "pygments_lexer": "ipython3",
   "version": "3.10.9"
  }
 },
 "nbformat": 4,
 "nbformat_minor": 2
}
