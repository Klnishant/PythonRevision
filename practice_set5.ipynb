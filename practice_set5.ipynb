{
 "cells": [
  {
   "cell_type": "markdown",
   "metadata": {},
   "source": [
    "Q1. Can you create a Python program that reads a text file and counts the number of words contained\n",
    "within it? The program should be designed to read the file and break it down into individual words, using\n",
    "spaces, punctuation marks, and other delimiters to separate the words. It should then count the number\n",
    "of words found in the file and display this count as output. The program should be flexible enough to work\n",
    "with different text files and should be able to handle a variety of formatting and punctuation styles."
   ]
  },
  {
   "cell_type": "code",
   "execution_count": 6,
   "metadata": {},
   "outputs": [],
   "source": [
    "import re\n",
    "\n",
    "def words_in_file(file_path):\n",
    "    with open(file_path,\"r\",encoding=\"utf-8\") as file:\n",
    "        content = file.read()\n",
    "    \n",
    "    words = re.findall(r'\\b\\w+\\b',content)\n",
    "\n",
    "    word_count = len(words)\n",
    "\n",
    "    print(f\"Total number of words in file: {word_count}\")"
   ]
  },
  {
   "cell_type": "code",
   "execution_count": 3,
   "metadata": {},
   "outputs": [
    {
     "data": {
      "text/plain": [
       "'e:\\\\PythonRevision'"
      ]
     },
     "execution_count": 3,
     "metadata": {},
     "output_type": "execute_result"
    }
   ],
   "source": [
    "pwd"
   ]
  },
  {
   "cell_type": "code",
   "execution_count": 7,
   "metadata": {},
   "outputs": [
    {
     "name": "stdout",
     "output_type": "stream",
     "text": [
      "Total number of words in file: 31\n"
     ]
    }
   ],
   "source": [
    "file_path=\"data/test.txt\"\n",
    "\n",
    "words_in_file(file_path)"
   ]
  },
  {
   "cell_type": "markdown",
   "metadata": {},
   "source": [
    "Q2. Could you help me create a Python program that can find and display the longest word in a text file?\n",
    "The program should be able to read any text file and separate its contents into individual words, taking\n",
    "into account various delimiters like spaces, punctuation marks, and other characters. Then, it should\n",
    "compare the length of each word and determine which one is the longest, and finally, print that word as\n",
    "output. The program should be versatile enough to work with various text files and be able to handle\n",
    "different formatting styles and punctuation."
   ]
  },
  {
   "cell_type": "code",
   "execution_count": 10,
   "metadata": {},
   "outputs": [],
   "source": [
    "import re\n",
    "\n",
    "def find_longest_word_in_file(file_path):\n",
    "    with open(file_path,'r',encoding='utf-8') as file:\n",
    "        content = file.read()\n",
    "\n",
    "    words = re.findall(r'\\b\\w+\\b',content)\n",
    "    max_word_size=0\n",
    "    max_word=''\n",
    "    for word in words:\n",
    "        if(len(word)>max_word_size):\n",
    "            max_word_size=len(word)\n",
    "            max_word=word\n",
    "\n",
    "    print(f\"Word Have Maximum Length: {max_word}\")"
   ]
  },
  {
   "cell_type": "code",
   "execution_count": 11,
   "metadata": {},
   "outputs": [
    {
     "name": "stdout",
     "output_type": "stream",
     "text": [
      "Word Have Maximum Length: otherwise\n"
     ]
    }
   ],
   "source": [
    "file_path = 'data/test.txt'\n",
    "\n",
    "find_longest_word_in_file(file_path)"
   ]
  },
  {
   "cell_type": "markdown",
   "metadata": {},
   "source": [
    "Q3. Write a Python program to read a text file and print out the most frequent word(s) in the file."
   ]
  },
  {
   "cell_type": "code",
   "execution_count": 16,
   "metadata": {},
   "outputs": [],
   "source": [
    "import re\n",
    "\n",
    "def find_most_frequent_word(file_path):\n",
    "    with open(file_path,'r',encoding='utf-8') as file:\n",
    "        content = file.read()\n",
    "\n",
    "    words = re.findall(r'\\b\\w+\\b',content)\n",
    "    max_count=0\n",
    "    most_frequent_word=''\n",
    "\n",
    "    for word in words:\n",
    "        count = words.count(word)\n",
    "\n",
    "        if(count>=max_count):\n",
    "            max_count=count\n",
    "            most_frequent_word=word\n",
    "\n",
    "    print(f\"Most Frequent Word is: {most_frequent_word}\")"
   ]
  },
  {
   "cell_type": "code",
   "execution_count": 17,
   "metadata": {},
   "outputs": [
    {
     "name": "stdout",
     "output_type": "stream",
     "text": [
      "Most Frequent Word is: Too\n"
     ]
    }
   ],
   "source": [
    "file_path='data/test.txt'\n",
    "\n",
    "find_most_frequent_word(file_path)"
   ]
  },
  {
   "cell_type": "markdown",
   "metadata": {},
   "source": [
    "Q4. How can you use Python to count the number of rows in a CSV file?"
   ]
  },
  {
   "cell_type": "code",
   "execution_count": 18,
   "metadata": {},
   "outputs": [],
   "source": [
    "import csv\n",
    "\n",
    "def count_row_in_csv(file_path):\n",
    "    with open(file_path,'r',encoding='utf-8') as file:\n",
    "        reader = csv.reader(file)\n",
    "\n",
    "        row_count = sum(1 for row in reader)\n",
    "    \n",
    "    print(f\"Number of row in given file is {row_count}\")"
   ]
  },
  {
   "cell_type": "code",
   "execution_count": 19,
   "metadata": {},
   "outputs": [
    {
     "name": "stdout",
     "output_type": "stream",
     "text": [
      "Number of row in given file is 4\n"
     ]
    }
   ],
   "source": [
    "file_path='data/test.csv'\n",
    "\n",
    "count_row_in_csv(file_path)"
   ]
  },
  {
   "cell_type": "markdown",
   "metadata": {},
   "source": [
    "Q5. How can you use Python to calculate the average of a specific column in a CSV file?"
   ]
  },
  {
   "cell_type": "code",
   "execution_count": 49,
   "metadata": {},
   "outputs": [],
   "source": [
    "import pandas as pd\n",
    "\n",
    "def calculate_average(file_path,column_name):\n",
    "    df = pd.read_csv(file_path)\n",
    "\n",
    "    if pd.api.types.is_numeric_dtype(df[column_name]):\n",
    "        average = df[column_name].mean()\n",
    "        print(f\"Average of the given column: {average}\")\n",
    "    else:\n",
    "        print(\"No numeric value found\")"
   ]
  },
  {
   "cell_type": "code",
   "execution_count": 52,
   "metadata": {},
   "outputs": [
    {
     "name": "stdout",
     "output_type": "stream",
     "text": [
      "Average of the given column: 30.0\n"
     ]
    }
   ],
   "source": [
    "file_path='data/test.csv'\n",
    "column_name='Age'\n",
    "\n",
    "calculate_average(file_path,column_name)"
   ]
  },
  {
   "cell_type": "markdown",
   "metadata": {},
   "source": [
    "Q6. Write a Python program to read a JSON file and print out the value of a specified key."
   ]
  },
  {
   "cell_type": "code",
   "execution_count": 62,
   "metadata": {},
   "outputs": [],
   "source": [
    "import json\n",
    "\n",
    "def value_in_json(file_path,key):\n",
    "    with open(file_path,'r',encoding='utf-8') as file:\n",
    "        reader=json.load(file)\n",
    "\n",
    "        print(f\"Value of a specified key: {reader.get(key)}\")\n",
    "        "
   ]
  },
  {
   "cell_type": "code",
   "execution_count": 63,
   "metadata": {},
   "outputs": [
    {
     "name": "stdout",
     "output_type": "stream",
     "text": [
      "Value of a specified key: 25\n"
     ]
    }
   ],
   "source": [
    "file_path='data/test.json'\n",
    "key=\"Bob\"\n",
    "\n",
    "value_in_json(file_path,key)"
   ]
  },
  {
   "cell_type": "markdown",
   "metadata": {},
   "source": [
    "Q7. Can you provide a Python code snippet to write a list of strings into a text file where each string is\n",
    "written on a new line?"
   ]
  },
  {
   "cell_type": "code",
   "execution_count": 64,
   "metadata": {},
   "outputs": [],
   "source": [
    "def write_string(file_path,string_list):\n",
    "    with open(file_path,'w',encoding='utf-8') as file:\n",
    "        for string in string_list:\n",
    "            file.write(string + \"\\n\")"
   ]
  },
  {
   "cell_type": "code",
   "execution_count": 65,
   "metadata": {},
   "outputs": [],
   "source": [
    "file_path='data/writeTest.txt'\n",
    "string_list=[\"Hello world!\",\"Thish is the first text\",\"for test file\"]\n",
    "\n",
    "write_string(file_path,string_list)"
   ]
  },
  {
   "cell_type": "code",
   "execution_count": 66,
   "metadata": {},
   "outputs": [
    {
     "name": "stdout",
     "output_type": "stream",
     "text": [
      "Hello world!\n",
      "Thish is the first text\n",
      "for test file\n",
      "\n"
     ]
    }
   ],
   "source": [
    "with open(file_path,'r',encoding='utf-8') as file:\n",
    "    print(file.read())"
   ]
  },
  {
   "cell_type": "markdown",
   "metadata": {},
   "source": [
    "Q8. Can you provide a Python code to read a binary file and display the data in hexadecimal format."
   ]
  },
  {
   "cell_type": "code",
   "execution_count": 67,
   "metadata": {},
   "outputs": [],
   "source": [
    "def binary_to_hexadecimal(file_path):\n",
    "    with open(file_path,'rb') as file:\n",
    "        data= file.read()\n",
    "        hex_output = data.hex()\n",
    "        print(f\"Hexadecimal representation of given binary file \\n {hex_output}\")"
   ]
  },
  {
   "cell_type": "code",
   "execution_count": 68,
   "metadata": {},
   "outputs": [
    {
     "name": "stdout",
     "output_type": "stream",
     "text": [
      "Hexadecimal representation of given binary file \n",
      " 30583438203058363520307836432030783646\n"
     ]
    }
   ],
   "source": [
    "file_path='data/test.bin'\n",
    "\n",
    "binary_to_hexadecimal(file_path)"
   ]
  },
  {
   "cell_type": "markdown",
   "metadata": {},
   "source": [
    "Q9. Can you write a Python code to read a Comma-Separated Values (CSV) file, apply a specific condition\n",
    "to each row, and create a new CSV file that contains only the rows that satisfy the condition? For example,\n",
    "if the CSV file contains information about products and their prices, you may want to create a new CSV\n",
    "file that only includes the products that are within a certain price range. The program should be able to\n",
    "read the CSV file, compare the values in each row to the specified condition, and write the rows that meet\n",
    "the criteria to a new CSV file."
   ]
  },
  {
   "cell_type": "code",
   "execution_count": 75,
   "metadata": {},
   "outputs": [],
   "source": [
    "import csv\n",
    "\n",
    "def filter_csv_file(input_file,output_file,filter_func):\n",
    "    with open(input_file,'r',encoding='utf-8') as inputFile, open(output_file,'w',encoding='utf-8') as outputFile:\n",
    "        reader=csv.DictReader(inputFile)\n",
    "        writer=csv.DictWriter(outputFile,fieldnames=reader.fieldnames)\n",
    "\n",
    "        writer.writeheader()\n",
    "\n",
    "        for row in reader:\n",
    "            if filter_func(row):\n",
    "                writer.writerow(row)"
   ]
  },
  {
   "cell_type": "code",
   "execution_count": 76,
   "metadata": {},
   "outputs": [],
   "source": [
    "def filter_fun(row):\n",
    "    return int(row['Price'])>1000 and int(row['Price'])<50000\n",
    "\n",
    "input_file='data/product.csv'\n",
    "output_file='data/filter_product.csv'\n",
    "\n",
    "filter_csv_file(input_file,output_file,filter_fun)"
   ]
  },
  {
   "cell_type": "code",
   "execution_count": 80,
   "metadata": {},
   "outputs": [
    {
     "name": "stdout",
     "output_type": "stream",
     "text": [
      "Product,Price\n",
      "\n",
      "heater,5000\n",
      "\n",
      "headphone,1500\n",
      "\n",
      "keyboard,1200\n",
      "\n",
      "\n"
     ]
    }
   ],
   "source": [
    "with open(output_file,'r',encoding='utf-8') as file:\n",
    "    reader=file.read()\n",
    "    print(reader)"
   ]
  },
  {
   "cell_type": "markdown",
   "metadata": {},
   "source": [
    "Q10. Write a Python program to read a text file, count the frequency of each word, and write the results to\n",
    "a new text file."
   ]
  },
  {
   "cell_type": "code",
   "execution_count": 137,
   "metadata": {},
   "outputs": [],
   "source": [
    "import re\n",
    "\n",
    "def count_freq(file_path,output_file):\n",
    "    with open(file_path,'r',encoding='utf-8') as file, open(output_file,'w',encoding='utf-8') as outputFile:\n",
    "        reader = file.read()\n",
    "        content = re.findall(r'\\b\\w+\\b',reader)\n",
    "        freq_set={}\n",
    "        for row in content:\n",
    "            freq_set.setdefault(row,content.count(row))\n",
    "        freq_set = list(freq_set.items())\n",
    "        for item in freq_set:\n",
    "            outputFile.write(f\"{item[0]} : {item[1]} \\n\")"
   ]
  },
  {
   "cell_type": "code",
   "execution_count": 138,
   "metadata": {},
   "outputs": [],
   "source": [
    "file_path='data/test.txt'\n",
    "output_file='data/freq_test.txt'\n",
    "\n",
    "count_freq(file_path,output_file)"
   ]
  },
  {
   "cell_type": "code",
   "execution_count": 139,
   "metadata": {},
   "outputs": [
    {
     "name": "stdout",
     "output_type": "stream",
     "text": [
      "Write : 1 \n",
      "a : 2 \n",
      "program : 1 \n",
      "that : 1 \n",
      "prompts : 1 \n",
      "the : 2 \n",
      "user : 1 \n",
      "to : 1 \n",
      "enter : 1 \n",
      "number : 2 \n",
      "between : 1 \n",
      "1 : 1 \n",
      "and : 1 \n",
      "10 : 1 \n",
      "If : 1 \n",
      "is : 1 \n",
      "less : 1 \n",
      "than : 1 \n",
      "5 : 1 \n",
      "print : 2 \n",
      "out : 2 \n",
      "Too : 2 \n",
      "low : 1 \n",
      "otherwise : 1 \n",
      "high : 1 \n",
      "\n"
     ]
    }
   ],
   "source": [
    "with open(output_file,'r',encoding='utf-8') as file:\n",
    "    print(file.read())"
   ]
  },
  {
   "cell_type": "code",
   "execution_count": null,
   "metadata": {},
   "outputs": [],
   "source": []
  }
 ],
 "metadata": {
  "kernelspec": {
   "display_name": "base",
   "language": "python",
   "name": "python3"
  },
  "language_info": {
   "codemirror_mode": {
    "name": "ipython",
    "version": 3
   },
   "file_extension": ".py",
   "mimetype": "text/x-python",
   "name": "python",
   "nbconvert_exporter": "python",
   "pygments_lexer": "ipython3",
   "version": "3.10.9"
  }
 },
 "nbformat": 4,
 "nbformat_minor": 2
}
