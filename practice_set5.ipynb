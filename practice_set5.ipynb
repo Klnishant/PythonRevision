{
 "cells": [
  {
   "cell_type": "markdown",
   "metadata": {},
   "source": [
    "Q1. Can you create a Python program that reads a text file and counts the number of words contained\n",
    "within it? The program should be designed to read the file and break it down into individual words, using\n",
    "spaces, punctuation marks, and other delimiters to separate the words. It should then count the number\n",
    "of words found in the file and display this count as output. The program should be flexible enough to work\n",
    "with different text files and should be able to handle a variety of formatting and punctuation styles."
   ]
  },
  {
   "cell_type": "code",
   "execution_count": 6,
   "metadata": {},
   "outputs": [],
   "source": [
    "import re\n",
    "\n",
    "def words_in_file(file_path):\n",
    "    with open(file_path,\"r\",encoding=\"utf-8\") as file:\n",
    "        content = file.read()\n",
    "    \n",
    "    words = re.findall(r'\\b\\w+\\b',content)\n",
    "\n",
    "    word_count = len(words)\n",
    "\n",
    "    print(f\"Total number of words in file: {word_count}\")"
   ]
  },
  {
   "cell_type": "code",
   "execution_count": 3,
   "metadata": {},
   "outputs": [
    {
     "data": {
      "text/plain": [
       "'e:\\\\PythonRevision'"
      ]
     },
     "execution_count": 3,
     "metadata": {},
     "output_type": "execute_result"
    }
   ],
   "source": [
    "pwd"
   ]
  },
  {
   "cell_type": "code",
   "execution_count": 7,
   "metadata": {},
   "outputs": [
    {
     "name": "stdout",
     "output_type": "stream",
     "text": [
      "Total number of words in file: 31\n"
     ]
    }
   ],
   "source": [
    "file_path=\"data/test.txt\"\n",
    "\n",
    "words_in_file(file_path)"
   ]
  },
  {
   "cell_type": "markdown",
   "metadata": {},
   "source": [
    "Q2. Could you help me create a Python program that can find and display the longest word in a text file?\n",
    "The program should be able to read any text file and separate its contents into individual words, taking\n",
    "into account various delimiters like spaces, punctuation marks, and other characters. Then, it should\n",
    "compare the length of each word and determine which one is the longest, and finally, print that word as\n",
    "output. The program should be versatile enough to work with various text files and be able to handle\n",
    "different formatting styles and punctuation."
   ]
  },
  {
   "cell_type": "code",
   "execution_count": 10,
   "metadata": {},
   "outputs": [],
   "source": [
    "import re\n",
    "\n",
    "def find_longest_word_in_file(file_path):\n",
    "    with open(file_path,'r',encoding='utf-8') as file:\n",
    "        content = file.read()\n",
    "\n",
    "    words = re.findall(r'\\b\\w+\\b',content)\n",
    "    max_word_size=0\n",
    "    max_word=''\n",
    "    for word in words:\n",
    "        if(len(word)>max_word_size):\n",
    "            max_word_size=len(word)\n",
    "            max_word=word\n",
    "\n",
    "    print(f\"Word Have Maximum Length: {max_word}\")"
   ]
  },
  {
   "cell_type": "code",
   "execution_count": 11,
   "metadata": {},
   "outputs": [
    {
     "name": "stdout",
     "output_type": "stream",
     "text": [
      "Word Have Maximum Length: otherwise\n"
     ]
    }
   ],
   "source": [
    "file_path = 'data/test.txt'\n",
    "\n",
    "find_longest_word_in_file(file_path)"
   ]
  },
  {
   "cell_type": "markdown",
   "metadata": {},
   "source": [
    "Q3. Write a Python program to read a text file and print out the most frequent word(s) in the file."
   ]
  },
  {
   "cell_type": "code",
   "execution_count": 16,
   "metadata": {},
   "outputs": [],
   "source": [
    "import re\n",
    "\n",
    "def find_most_frequent_word(file_path):\n",
    "    with open(file_path,'r',encoding='utf-8') as file:\n",
    "        content = file.read()\n",
    "\n",
    "    words = re.findall(r'\\b\\w+\\b',content)\n",
    "    max_count=0\n",
    "    most_frequent_word=''\n",
    "\n",
    "    for word in words:\n",
    "        count = words.count(word)\n",
    "\n",
    "        if(count>=max_count):\n",
    "            max_count=count\n",
    "            most_frequent_word=word\n",
    "\n",
    "    print(f\"Most Frequent Word is: {most_frequent_word}\")"
   ]
  },
  {
   "cell_type": "code",
   "execution_count": 17,
   "metadata": {},
   "outputs": [
    {
     "name": "stdout",
     "output_type": "stream",
     "text": [
      "Most Frequent Word is: Too\n"
     ]
    }
   ],
   "source": [
    "file_path='data/test.txt'\n",
    "\n",
    "find_most_frequent_word(file_path)"
   ]
  },
  {
   "cell_type": "code",
   "execution_count": null,
   "metadata": {},
   "outputs": [],
   "source": []
  }
 ],
 "metadata": {
  "kernelspec": {
   "display_name": "base",
   "language": "python",
   "name": "python3"
  },
  "language_info": {
   "codemirror_mode": {
    "name": "ipython",
    "version": 3
   },
   "file_extension": ".py",
   "mimetype": "text/x-python",
   "name": "python",
   "nbconvert_exporter": "python",
   "pygments_lexer": "ipython3",
   "version": "3.10.9"
  }
 },
 "nbformat": 4,
 "nbformat_minor": 2
}
