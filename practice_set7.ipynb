{
 "cells": [
  {
   "cell_type": "markdown",
   "metadata": {},
   "source": [
    "Q1. Write a program that spawns two threads. One thread should print even numbers between 0 and 10,\n",
    "and the other thread should print odd numbers between 1 and 9."
   ]
  },
  {
   "cell_type": "code",
   "execution_count": 1,
   "metadata": {},
   "outputs": [],
   "source": [
    "import threading\n",
    "\n",
    "def print_even():\n",
    "    for i in range(0,11,2):\n",
    "        print(f\"Even: {i}\")\n",
    "\n",
    "def print_odd():\n",
    "    for i in range(1,10,2):\n",
    "        print(f\"Odd: {i}\")"
   ]
  },
  {
   "cell_type": "code",
   "execution_count": 2,
   "metadata": {},
   "outputs": [
    {
     "name": "stdout",
     "output_type": "stream",
     "text": [
      "Even: 0\n",
      "Even: 2\n",
      "Even: 4\n",
      "Even: 6\n",
      "Even: 8\n",
      "Even: 10\n",
      "Odd: 1\n",
      "Odd: 3\n",
      "Odd: 5\n",
      "Odd: 7\n",
      "Odd: 9\n",
      "Finished printing even and odd numbers\n"
     ]
    }
   ],
   "source": [
    "even_thread = threading.Thread(target=print_even)\n",
    "odd_thread = threading.Thread(target=print_odd)\n",
    "\n",
    "even_thread.start()\n",
    "odd_thread.start()\n",
    "\n",
    "even_thread.join()\n",
    "odd_thread.join()\n",
    "\n",
    "print(\"Finished printing even and odd numbers\")"
   ]
  },
  {
   "cell_type": "markdown",
   "metadata": {},
   "source": [
    "Q2. Write a program that generates a list of random numbers and sorts them using multithreading. Use\n",
    "two threads to sort the first half and the second half of the list in parallel."
   ]
  },
  {
   "cell_type": "code",
   "execution_count": 31,
   "metadata": {},
   "outputs": [],
   "source": [
    "import numpy as np\n",
    "\n",
    "def generat_num():\n",
    "    lst=np.random.randint(1,101,size=10)\n",
    "    return lst\n",
    "\n",
    "def sort_first_haf(lst):\n",
    "    first_half=[]\n",
    "    for i in range(0,int(len(lst)/2)):\n",
    "        first_half.append(lst[i])\n",
    "\n",
    "    first_half.sort()\n",
    "    print(first_half)\n",
    "\n",
    "def sort_second_haf(lst):\n",
    "    second_half=[]\n",
    "    for i in range(int(len(lst)/2),len(lst)):\n",
    "        second_half.append(lst[i])\n",
    "    second_half.sort()\n",
    "    print(second_half)"
   ]
  },
  {
   "cell_type": "code",
   "execution_count": 32,
   "metadata": {},
   "outputs": [
    {
     "name": "stdout",
     "output_type": "stream",
     "text": [
      "[37, 58, 62, 87, 92]\n",
      "[40, 49, 56, 71, 83]\n",
      "Finished sorting\n"
     ]
    }
   ],
   "source": [
    "import threading\n",
    "\n",
    "lst = generat_num()\n",
    "\n",
    "first_half_thread = threading.Thread(target=sort_first_haf(lst))\n",
    "second_half_thread = threading.Thread(target=sort_second_haf(lst))\n",
    "\n",
    "first_half_thread.start()\n",
    "second_half_thread.start()\n",
    "\n",
    "first_half_thread.join()\n",
    "second_half_thread.join()\n",
    "\n",
    "print(\"Finished sorting\")"
   ]
  },
  {
   "cell_type": "markdown",
   "metadata": {},
   "source": [
    "Q3. Write a program that simulates a bank account transaction. The program should create two threads,\n",
    "one for a deposit and one for a withdrawal. The deposit thread should add\n",
    "100 to the account,and the withdrawal thread should withdraw\n",
    "50 from the account. Run the program for 10 iterations."
   ]
  },
  {
   "cell_type": "code",
   "execution_count": 53,
   "metadata": {},
   "outputs": [],
   "source": [
    "class BankTransaction:\n",
    "    def __init__(self,name,ac_num,balance):\n",
    "        self.name=name\n",
    "        self.ac_num=ac_num\n",
    "        self.balance=balance\n",
    "\n",
    "    def deposit(self):\n",
    "        for i in range(10):\n",
    "            self.balance +=100\n",
    "            print(\"Ammount deposited successfully\")\n",
    "            print(f\"Available Balance: {self.balance}\")\n",
    "\n",
    "    def withdraw(self):\n",
    "        for i in range(10):\n",
    "            self.balance -=50\n",
    "            print(\"Ammount withdrawl successfully\")\n",
    "            print(f\"Available Balance: {self.balance}\")\n"
   ]
  },
  {
   "cell_type": "code",
   "execution_count": 54,
   "metadata": {},
   "outputs": [
    {
     "name": "stdout",
     "output_type": "stream",
     "text": [
      "Ammount deposited successfully\n",
      "Available Balance: 600\n",
      "Ammount deposited successfully\n",
      "Available Balance: 700\n",
      "Ammount deposited successfully\n",
      "Available Balance: 800\n",
      "Ammount deposited successfully\n",
      "Available Balance: 900\n",
      "Ammount deposited successfully\n",
      "Available Balance: 1000\n",
      "Ammount deposited successfully\n",
      "Available Balance: 1100\n",
      "Ammount deposited successfully\n",
      "Available Balance: 1200\n",
      "Ammount deposited successfully\n",
      "Available Balance: 1300\n",
      "Ammount deposited successfully\n",
      "Available Balance: 1400\n",
      "Ammount deposited successfully\n",
      "Available Balance: 1500\n",
      "Ammount withdrawl successfully\n",
      "Available Balance: 1450\n",
      "Ammount withdrawl successfully\n",
      "Available Balance: 1400\n",
      "Ammount withdrawl successfully\n",
      "Available Balance: 1350\n",
      "Ammount withdrawl successfully\n",
      "Available Balance: 1300\n",
      "Ammount withdrawl successfully\n",
      "Available Balance: 1250\n",
      "Ammount withdrawl successfully\n",
      "Available Balance: 1200\n",
      "Ammount withdrawl successfully\n",
      "Available Balance: 1150\n",
      "Ammount withdrawl successfully\n",
      "Available Balance: 1100\n",
      "Ammount withdrawl successfully\n",
      "Available Balance: 1050\n",
      "Ammount withdrawl successfully\n",
      "Available Balance: 1000\n"
     ]
    }
   ],
   "source": [
    "import threading\n",
    "\n",
    "banktransaction1 = BankTransaction(\"Jhon\",1001,500)\n",
    "\n",
    "deposit_thread = threading.Thread(target=banktransaction1.deposit())\n",
    "withdraw_thread = threading.Thread(target=banktransaction1.withdraw())\n",
    "\n",
    "deposit_thread.start()\n",
    "withdraw_thread.start()\n",
    "\n",
    "deposit_thread.join()\n",
    "withdraw_thread.join()"
   ]
  },
  {
   "cell_type": "markdown",
   "metadata": {},
   "source": [
    "Q4. Write a Python program that creates a thread to print out the current date and time every 5 seconds.\n",
    "The program should continue running until the user presses the 'q' key."
   ]
  },
  {
   "cell_type": "code",
   "execution_count": 11,
   "metadata": {},
   "outputs": [
    {
     "name": "stdout",
     "output_type": "stream",
     "text": [
      "Current Date and Time: 2024-12-22 14:42:16.846721\n",
      "Current Date and Time: 2024-12-22 14:42:21.860842\n"
     ]
    },
    {
     "ename": "KeyboardInterrupt",
     "evalue": "",
     "output_type": "error",
     "traceback": [
      "\u001b[1;31m---------------------------------------------------------------------------\u001b[0m",
      "\u001b[1;31mKeyboardInterrupt\u001b[0m                         Traceback (most recent call last)",
      "Cell \u001b[1;32mIn[11], line 27\u001b[0m\n\u001b[0;32m     22\u001b[0m         running\u001b[38;5;241m=\u001b[39m\u001b[38;5;28;01mFalse\u001b[39;00m\n\u001b[0;32m     23\u001b[0m         time\u001b[38;5;241m.\u001b[39msleep(\u001b[38;5;241m5\u001b[39m)\n\u001b[1;32m---> 27\u001b[0m date_time_thread \u001b[38;5;241m=\u001b[39m threading\u001b[38;5;241m.\u001b[39mThread(target\u001b[38;5;241m=\u001b[39m\u001b[43mprint_date_time\u001b[49m\u001b[43m(\u001b[49m\u001b[43m)\u001b[49m)\n\u001b[0;32m     28\u001b[0m stop \u001b[38;5;241m=\u001b[39m threading\u001b[38;5;241m.\u001b[39mThread(target\u001b[38;5;241m=\u001b[39mstop_thread())\n\u001b[0;32m     30\u001b[0m date_time_thread\u001b[38;5;241m.\u001b[39mstart()\n",
      "Cell \u001b[1;32mIn[11], line 10\u001b[0m, in \u001b[0;36mprint_date_time\u001b[1;34m()\u001b[0m\n\u001b[0;32m      8\u001b[0m \u001b[38;5;28;01mwhile\u001b[39;00m running:\n\u001b[0;32m      9\u001b[0m     \u001b[38;5;28mprint\u001b[39m(\u001b[38;5;124mf\u001b[39m\u001b[38;5;124m\"\u001b[39m\u001b[38;5;124mCurrent Date and Time: \u001b[39m\u001b[38;5;132;01m{\u001b[39;00mdatetime\u001b[38;5;241m.\u001b[39mnow()\u001b[38;5;132;01m}\u001b[39;00m\u001b[38;5;124m\"\u001b[39m)\n\u001b[1;32m---> 10\u001b[0m     \u001b[43mtime\u001b[49m\u001b[38;5;241;43m.\u001b[39;49m\u001b[43msleep\u001b[49m\u001b[43m(\u001b[49m\u001b[38;5;241;43m5\u001b[39;49m\u001b[43m)\u001b[49m\n",
      "\u001b[1;31mKeyboardInterrupt\u001b[0m: "
     ]
    }
   ],
   "source": [
    "from datetime import datetime\n",
    "import threading\n",
    "import time\n",
    "\n",
    "global running\n",
    "running = True\n",
    "def print_date_time():\n",
    "    while running:\n",
    "        print(f\"Current Date and Time: {datetime.now()}\")\n",
    "        time.sleep(5)\n",
    "\n",
    "def stop_thread():\n",
    "    print(\"Press q to stop the program\")\n",
    "    try:\n",
    "        while True:\n",
    "            user_input = input().strip().lower()\n",
    "            if user_input == 'q':\n",
    "                running = False\n",
    "                break\n",
    "        time.sleep(5)\n",
    "    except KeyboardInterrupt:\n",
    "        running=False\n",
    "        time.sleep(5)\n",
    "\n",
    "\n",
    "\n",
    "date_time_thread = threading.Thread(target=print_date_time())\n",
    "stop = threading.Thread(target=stop_thread())\n",
    "\n",
    "date_time_thread.start()\n",
    "stop.start()\n",
    "\n",
    "date_time_thread.join()\n",
    "stop.join()\n",
    "print(\"Programm stopped:\")"
   ]
  },
  {
   "cell_type": "markdown",
   "metadata": {},
   "source": [
    "Q5. Write a Python program that creates two threads. Each thread should print out the numbers from 1 to\n",
    "10. The two threads should run concurrently and print out the numbers in an interleaved fashion."
   ]
  },
  {
   "cell_type": "code",
   "execution_count": 8,
   "metadata": {},
   "outputs": [
    {
     "name": "stdout",
     "output_type": "stream",
     "text": [
      "Thread-1: 1\n",
      "Thread-2: 1\n",
      "Thread-2: 2\n",
      "Thread-1: 2\n",
      "Thread-2: 3\n",
      "Thread-1: 3\n",
      "Thread-2: 4\n",
      "Thread-1: 4\n",
      "Thread-1: 5Thread-2: 5\n",
      "\n",
      "Thread-1: 6\n",
      "Thread-2: 6\n",
      "Thread-2: 7Thread-1: 7\n",
      "\n",
      "Thread-2: 8\n",
      "Thread-1: 8\n",
      "Thread-2: 9Thread-1: 9\n",
      "\n",
      "Thread-1: 10\n",
      "Thread-2: 10\n",
      "Both threads have finished execution.\n"
     ]
    }
   ],
   "source": [
    "import threading\n",
    "import time\n",
    "\n",
    "def print_numbers(thread_name):\n",
    "    for i in range(1, 11):\n",
    "        print(f\"{thread_name}: {i}\")\n",
    "        # Adding a small delay to allow interleaving\n",
    "        time.sleep(0.1)\n",
    "\n",
    "# Creating threads\n",
    "thread1 = threading.Thread(target=print_numbers, args=(\"Thread-1\",))\n",
    "thread2 = threading.Thread(target=print_numbers, args=(\"Thread-2\",))\n",
    "\n",
    "# Starting threads\n",
    "thread1.start()\n",
    "thread2.start()\n",
    "\n",
    "# Waiting for both threads to complete\n",
    "thread1.join()\n",
    "thread2.join()\n",
    "\n",
    "print(\"Both threads have finished execution.\")\n"
   ]
  },
  {
   "cell_type": "markdown",
   "metadata": {},
   "source": [
    "Q6. Write a Python program to create a shared variable between two threads and increment its value in\n",
    "each thread."
   ]
  },
  {
   "cell_type": "code",
   "execution_count": 14,
   "metadata": {},
   "outputs": [
    {
     "name": "stdout",
     "output_type": "stream",
     "text": [
      "Thread-1 incremented counter to 1\n",
      "Thread-1 incremented counter to 2\n",
      "Thread-1 incremented counter to 3\n",
      "Thread-1 incremented counter to 4\n",
      "Thread-1 incremented counter to 5\n",
      "Thread-1 incremented counter to 6\n",
      "Thread-1 incremented counter to 7\n",
      "Thread-1 incremented counter to 8\n",
      "Thread-1 incremented counter to 9\n",
      "Thread-1 incremented counter to 10\n",
      "Thread-2 incremented counter to 11\n",
      "Thread-2 incremented counter to 12\n",
      "Thread-2 incremented counter to 13\n",
      "Thread-2 incremented counter to 14\n",
      "Thread-2 incremented counter to 15\n",
      "Thread-2 incremented counter to 16\n",
      "Thread-2 incremented counter to 17\n",
      "Thread-2 incremented counter to 18\n",
      "Thread-2 incremented counter to 19\n",
      "Thread-2 incremented counter to 20\n",
      "Final counter value: 20\n"
     ]
    }
   ],
   "source": [
    "import threading\n",
    "\n",
    "# Shared variable\n",
    "shared_counter = 0\n",
    "\n",
    "# Lock for synchronization\n",
    "lock = threading.Lock()\n",
    "\n",
    "def increment_counter(thread_name):\n",
    "    global shared_counter\n",
    "    for _ in range(10):\n",
    "        with lock:  # Acquiring the lock\n",
    "            shared_counter += 1\n",
    "            print(f\"{thread_name} incremented counter to {shared_counter}\")\n",
    "\n",
    "# Creating threads\n",
    "thread1 = threading.Thread(target=increment_counter, args=(\"Thread-1\",))\n",
    "thread2 = threading.Thread(target=increment_counter, args=(\"Thread-2\",))\n",
    "\n",
    "# Starting threads\n",
    "thread1.start()\n",
    "thread2.start()\n",
    "\n",
    "# Waiting for both threads to complete\n",
    "thread1.join()\n",
    "thread2.join()\n",
    "\n",
    "print(f\"Final counter value: {shared_counter}\")\n"
   ]
  },
  {
   "cell_type": "markdown",
   "metadata": {},
   "source": [
    "Q7. Here's a Python program that creates a thread to count down from 5 to 0 and prints \"Blastoff!\" when\n",
    "the count reaches 0:"
   ]
  },
  {
   "cell_type": "code",
   "execution_count": 16,
   "metadata": {},
   "outputs": [
    {
     "name": "stdout",
     "output_type": "stream",
     "text": [
      "5\n",
      "4\n",
      "3\n",
      "2\n",
      "1\n",
      "Blastoff\n"
     ]
    }
   ],
   "source": [
    "import threading\n",
    "\n",
    "count = 5\n",
    "\n",
    "def count_down(count):\n",
    "    while(count>=0):\n",
    "        if count==0:\n",
    "            print(\"Blastoff\")\n",
    "        else:\n",
    "            print(count)\n",
    "        count -=1\n",
    "\n",
    "count_thread = threading.Thread(target=count_down(count))\n",
    "\n",
    "count_thread.start()\n",
    "\n",
    "count_thread.join()"
   ]
  },
  {
   "cell_type": "markdown",
   "metadata": {},
   "source": [
    "Q8. Write a program that creates a thread to print the Fibonacci sequence up to a certain number n. The\n",
    "main thread should prompt the user for the value of n."
   ]
  },
  {
   "cell_type": "code",
   "execution_count": 20,
   "metadata": {},
   "outputs": [],
   "source": [
    "import threading\n",
    "\n",
    "def fib_series(prev,curr,nexts,num):\n",
    "    if num==0:\n",
    "        return\n",
    "    \n",
    "    print(curr)\n",
    "    prev=curr\n",
    "    curr=nexts\n",
    "    nexts=curr+prev\n",
    "    return fib_series(prev,curr,nexts,num-1)\n",
    "    "
   ]
  },
  {
   "cell_type": "code",
   "execution_count": 21,
   "metadata": {},
   "outputs": [
    {
     "name": "stdout",
     "output_type": "stream",
     "text": [
      "1\n",
      "1\n",
      "2\n",
      "3\n",
      "5\n",
      "8\n",
      "13\n",
      "21\n",
      "34\n",
      "55\n"
     ]
    }
   ],
   "source": [
    "n = int(input(\"Enter the number:\"))\n",
    "\n",
    "prev=0\n",
    "curr=1\n",
    "nexts=prev+curr\n",
    "\n",
    "fib_thread = threading.Thread(target=fib_series(prev,curr,nexts,n))\n",
    "\n",
    "fib_thread.start()\n",
    "\n",
    "fib_thread.join()"
   ]
  },
  {
   "cell_type": "markdown",
   "metadata": {},
   "source": [
    "Q9. Write a program that creates two threads to add and subtract numbers from a shared variable. The\n",
    "shared variable should start at 0, and each thread should perform 10 iterations of adding or subtracting a\n",
    "random integer between 1 and 10. The program should print the final value of the shared variable."
   ]
  },
  {
   "cell_type": "code",
   "execution_count": 28,
   "metadata": {},
   "outputs": [],
   "source": [
    "import numpy as np\n",
    "\n",
    "shared_var=0\n",
    "\n",
    "def add_var():\n",
    "    global shared_var\n",
    "    for i in range(10):\n",
    "        num = np.random.randint(1,11)\n",
    "        with lock:\n",
    "            shared_var +=num\n",
    "            print(shared_var)\n",
    "\n",
    "def sub_var():\n",
    "    global shared_var\n",
    "    for i in range(10):\n",
    "        num = np.random.randint(1,11)\n",
    "        with lock:\n",
    "            shared_var -= num\n",
    "            print(shared_var)"
   ]
  },
  {
   "cell_type": "code",
   "execution_count": 31,
   "metadata": {},
   "outputs": [
    {
     "name": "stdout",
     "output_type": "stream",
     "text": [
      "30\n",
      "35\n",
      "42\n",
      "44\n",
      "47\n",
      "51\n",
      "56\n",
      "58\n",
      "64\n",
      "69\n",
      "65\n",
      "59\n",
      "52\n",
      "43\n",
      "39\n",
      "30\n",
      "27\n",
      "25\n",
      "18\n",
      "11\n",
      "Final value of shared variable: 11\n"
     ]
    }
   ],
   "source": [
    "import threading\n",
    "\n",
    "add_thread = threading.Thread(target=add_var())\n",
    "sub_thread = threading.Thread(target=sub_var())\n",
    "\n",
    "add_thread.start()\n",
    "sub_thread.start()\n",
    "\n",
    "add_thread.join()\n",
    "sub_thread.join()\n",
    "\n",
    "print(f\"Final value of shared variable: {shared_var}\")"
   ]
  },
  {
   "cell_type": "markdown",
   "metadata": {},
   "source": [
    "Q10. Write a program that creates a thread to calculate the sum of the numbers from 1 to 100 and prints\n",
    "the result."
   ]
  },
  {
   "cell_type": "code",
   "execution_count": 27,
   "metadata": {},
   "outputs": [
    {
     "name": "stdout",
     "output_type": "stream",
     "text": [
      "Sum of number between 1 and 100: 5050\n"
     ]
    }
   ],
   "source": [
    "import threading\n",
    "def calculate_sum():\n",
    "    print(f\"Sum of number between 1 and 100: {50*101}\")\n",
    "\n",
    "sum_thread = threading.Thread(target=calculate_sum())\n",
    "\n",
    "sum_thread.start()\n",
    "\n",
    "sum_thread.join()"
   ]
  },
  {
   "cell_type": "code",
   "execution_count": null,
   "metadata": {},
   "outputs": [],
   "source": []
  }
 ],
 "metadata": {
  "kernelspec": {
   "display_name": "base",
   "language": "python",
   "name": "python3"
  },
  "language_info": {
   "codemirror_mode": {
    "name": "ipython",
    "version": 3
   },
   "file_extension": ".py",
   "mimetype": "text/x-python",
   "name": "python",
   "nbconvert_exporter": "python",
   "pygments_lexer": "ipython3",
   "version": "3.10.9"
  }
 },
 "nbformat": 4,
 "nbformat_minor": 2
}
