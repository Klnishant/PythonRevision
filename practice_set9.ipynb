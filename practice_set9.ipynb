{
 "cells": [
  {
   "cell_type": "markdown",
   "metadata": {},
   "source": [
    "Q1. Write a Python program that prompts the user for two integers and divides the first integer by the\n",
    "second integer. If the either variable are none integer then print the value error and second integer is\n",
    "zero, catch the ZeroDivisionError and print an error message to the user."
   ]
  },
  {
   "cell_type": "code",
   "execution_count": 11,
   "metadata": {},
   "outputs": [
    {
     "name": "stdout",
     "output_type": "stream",
     "text": [
      "2.5\n"
     ]
    }
   ],
   "source": [
    "try:\n",
    "    num1=int(input(\"Enter the Number:\"))\n",
    "    num2=int(input(\"Enter the Number:\"))\n",
    "    if(num2!=0):\n",
    "        print(num1/num2)\n",
    "except ZeroDivisionError as zero:\n",
    "    print(f\"{zero} Error\")\n",
    "except Exception as e:\n",
    "    print(\"value error\")"
   ]
  },
  {
   "cell_type": "markdown",
   "metadata": {},
   "source": [
    "Q2. Write a Python program that prompts the user for a password and checks whether the password\n",
    "meets certain criteria (e.g., at least 8 characters, contains at least one uppercase letter, etc.). If the\n",
    "password does not meet the criteria, raise a custom exception called PasswordError with a custom error\n",
    "message."
   ]
  },
  {
   "cell_type": "code",
   "execution_count": 12,
   "metadata": {},
   "outputs": [],
   "source": [
    "import re\n",
    "\n",
    "regex_password = r'^(?=.*[A-z])(?=.*[!@#$%^&*(),.?\":{}|])[A-Za-z\\d!@#$%^&*(),.?\":{}|<>]{8,}$'\n",
    "\n",
    "class customException(Exception):\n",
    "    def __init__(self, messasge):\n",
    "        super().__init__(messasge)"
   ]
  },
  {
   "cell_type": "code",
   "execution_count": 18,
   "metadata": {},
   "outputs": [
    {
     "name": "stdout",
     "output_type": "stream",
     "text": [
      "Password Pattern Match\n"
     ]
    }
   ],
   "source": [
    "try:\n",
    "    password = input(\"Enter the password:\")\n",
    "\n",
    "    if(bool(re.match(regex_password,password))):\n",
    "        print(\"Password Pattern Match\")\n",
    "    else:\n",
    "        raise customException(\"Password Pattern did not match\")\n",
    "    \n",
    "except customException as e:\n",
    "    print(f\"Cought an exception: {e}\")"
   ]
  },
  {
   "cell_type": "markdown",
   "metadata": {},
   "source": [
    "Q3. Write a Python program that prompts the user for a number and calculates the square root of the\n",
    "number using the math.sqrt() function. If the number is negative, raise a ValueError with a custom error\n",
    "message."
   ]
  },
  {
   "cell_type": "code",
   "execution_count": 19,
   "metadata": {},
   "outputs": [
    {
     "name": "stdout",
     "output_type": "stream",
     "text": [
      "Cought an exception: Number is negative\n"
     ]
    }
   ],
   "source": [
    "import math\n",
    "\n",
    "num = int(input(\"Enter the number:\"))\n",
    "\n",
    "try:\n",
    "    if(num<0):\n",
    "        raise ValueError(\"Number is negative\")\n",
    "    else:\n",
    "        print(math.sqrt(num))\n",
    "except ValueError as e:\n",
    "    print(f\"Cought an exception: {e}\")"
   ]
  },
  {
   "cell_type": "markdown",
   "metadata": {},
   "source": [
    "Q5. Write a Python program that prompts the user for a list of integers and calculates the average of the\n",
    "list. If the list is empty, raise a ValueError with a custom error message."
   ]
  },
  {
   "cell_type": "code",
   "execution_count": 26,
   "metadata": {},
   "outputs": [
    {
     "name": "stdout",
     "output_type": "stream",
     "text": [
      "Cought Error: Length of the list is zero\n"
     ]
    }
   ],
   "source": [
    "lst = input(\"Enter the list:\")\n",
    "lst = list(map(int,lst.split()))\n",
    "\n",
    "try:\n",
    "    if(len(lst)==0):\n",
    "        raise ValueError(\"Length of the list is zero\")\n",
    "    else:\n",
    "        avg = sum(lst)/len(lst)\n",
    "        print(f\"Average of the list: {avg}\")\n",
    "except ValueError as e:\n",
    "    print(f\"Cought Error: {e}\")"
   ]
  },
  {
   "cell_type": "markdown",
   "metadata": {},
   "source": [
    "Q6. Write a function that takes a string as input and returns the number of vow\n",
    "els in the string. If the input is not a string, raise a TypeError with a custom error message."
   ]
  },
  {
   "cell_type": "code",
   "execution_count": 43,
   "metadata": {},
   "outputs": [],
   "source": [
    "def vowels(string):\n",
    "    vowels=[]\n",
    "    try:\n",
    "        if(type(string) != str):\n",
    "            raise TypeError(\"Given input is not a string\")\n",
    "        else:\n",
    "            for char in string:\n",
    "                if(char=='a' or char=='e' or char=='i' or char=='0' or char=='u' or char=='A' or char=='E' or char=='I' or char=='O' or char=='U'):\n",
    "                    vowels.append(char)\n",
    "        return str(len(vowels))\n",
    "    except TypeError as e:\n",
    "        print(f\"Cought an exception: {e}\")"
   ]
  },
  {
   "cell_type": "code",
   "execution_count": 45,
   "metadata": {},
   "outputs": [
    {
     "name": "stdout",
     "output_type": "stream",
     "text": [
      "Cought an exception: Given input is not a string\n",
      "None\n"
     ]
    }
   ],
   "source": [
    "string=572\n",
    "\n",
    "len_vowels = vowels(string)\n",
    "print(len_vowels)"
   ]
  },
  {
   "cell_type": "markdown",
   "metadata": {},
   "source": [
    "Q7. write a python program how to handle simple runtime error?"
   ]
  },
  {
   "cell_type": "code",
   "execution_count": 47,
   "metadata": {},
   "outputs": [],
   "source": [
    "def divide_numbers():\n",
    "    try:\n",
    "        num1=int(input(\"Enter the numerator:\"))\n",
    "        num2=int(input(\"Enter the denominator:\"))\n",
    "\n",
    "        result = num1/num2\n",
    "        print(f\"The result is: {result}\")\n",
    "    except ZeroDivisionError:\n",
    "        print(\"Error: Division by zero is not allowed!\")\n",
    "    except ValueError:\n",
    "        print(\"Error: Please Enter valid integer\")\n",
    "    except Exception as e:\n",
    "        print(f\"An unexpected error occured: {e}\")\n",
    "    finally:\n",
    "        print(\"Program execution completed\")"
   ]
  },
  {
   "cell_type": "code",
   "execution_count": 50,
   "metadata": {},
   "outputs": [
    {
     "name": "stdout",
     "output_type": "stream",
     "text": [
      "The result is: 12.0\n",
      "Program execution completed\n"
     ]
    }
   ],
   "source": [
    "divide_numbers()"
   ]
  },
  {
   "cell_type": "markdown",
   "metadata": {},
   "source": [
    "Q8. write a program how to handle multiple errors with one answer:# Program to handle multiple errors\n",
    "with one."
   ]
  },
  {
   "cell_type": "code",
   "execution_count": 53,
   "metadata": {},
   "outputs": [
    {
     "name": "stdout",
     "output_type": "stream",
     "text": [
      "Result: 10.0\n"
     ]
    }
   ],
   "source": [
    "# Program to handle multiple errors with one answer\n",
    "def handle_errors():\n",
    "    try:\n",
    "        num = int(input(\"Enter a number: \"))\n",
    "        result = 100 / num\n",
    "        print(f\"Result: {result}\")\n",
    "    except (ValueError, ZeroDivisionError) as e:\n",
    "        print(f\"An error occurred: {e}\")\n",
    "\n",
    "# Run the function\n",
    "handle_errors()\n"
   ]
  },
  {
   "cell_type": "markdown",
   "metadata": {},
   "source": [
    "Q9. write a program to print the reciprocal of even numbers note:we might want to run a certain block of\n",
    "code if the code block inside try runs without any errors. For these cases, you can use the optional else\n",
    "keyword with the try statement."
   ]
  },
  {
   "cell_type": "code",
   "execution_count": 54,
   "metadata": {},
   "outputs": [
    {
     "name": "stdout",
     "output_type": "stream",
     "text": [
      "The reciprocal of 2 is 0.5\n",
      "Error: Cannot calculate the reciprocal of zero.\n",
      "Error: The number is not even.\n",
      "The reciprocal of 10 is 0.1\n",
      "The reciprocal of 8 is 0.125\n"
     ]
    }
   ],
   "source": [
    "# Program to print the reciprocal of even numbers\n",
    "def print_reciprocal(number):\n",
    "    try:\n",
    "        if number % 2 != 0:\n",
    "            raise ValueError(\"The number is not even.\")\n",
    "        reciprocal = 1 / number\n",
    "    except ValueError as ve:\n",
    "        print(f\"Error: {ve}\")\n",
    "    except ZeroDivisionError:\n",
    "        print(\"Error: Cannot calculate the reciprocal of zero.\")\n",
    "    else:\n",
    "        # Executes only if no exceptions occur\n",
    "        print(f\"The reciprocal of {number} is {reciprocal}\")\n",
    "\n",
    "# Example usage\n",
    "numbers = [2, 0, 5, 10, 8]\n",
    "\n",
    "for num in numbers:\n",
    "    print_reciprocal(num)\n"
   ]
  },
  {
   "cell_type": "markdown",
   "metadata": {},
   "source": [
    "Q10. How to handle exceptions using the try, except, and finally statements write code."
   ]
  },
  {
   "cell_type": "code",
   "execution_count": 55,
   "metadata": {},
   "outputs": [
    {
     "name": "stdout",
     "output_type": "stream",
     "text": [
      "Result: 5.0\n",
      "Execution of the try-except block is complete.\n",
      "\n",
      "Error: Division by zero is not allowed.\n",
      "Execution of the try-except block is complete.\n",
      "\n",
      "Error: Both inputs must be numbers.\n",
      "Execution of the try-except block is complete.\n"
     ]
    }
   ],
   "source": [
    "# Program to demonstrate try, except, and finally statements\n",
    "def divide_numbers(a, b):\n",
    "    try:\n",
    "        result = a / b\n",
    "    except ZeroDivisionError:\n",
    "        print(\"Error: Division by zero is not allowed.\")\n",
    "        result = None\n",
    "    except TypeError:\n",
    "        print(\"Error: Both inputs must be numbers.\")\n",
    "        result = None\n",
    "    else:\n",
    "        print(f\"Result: {result}\")\n",
    "    finally:\n",
    "        print(\"Execution of the try-except block is complete.\")\n",
    "    return result\n",
    "\n",
    "# Example usage\n",
    "divide_numbers(10, 2)  # Valid division\n",
    "print()  # Separator\n",
    "divide_numbers(10, 0)  # Division by zero\n",
    "print()  # Separator\n",
    "divide_numbers(10, \"a\")  # Invalid input type\n"
   ]
  },
  {
   "cell_type": "code",
   "execution_count": null,
   "metadata": {},
   "outputs": [],
   "source": []
  }
 ],
 "metadata": {
  "kernelspec": {
   "display_name": "base",
   "language": "python",
   "name": "python3"
  },
  "language_info": {
   "codemirror_mode": {
    "name": "ipython",
    "version": 3
   },
   "file_extension": ".py",
   "mimetype": "text/x-python",
   "name": "python",
   "nbconvert_exporter": "python",
   "pygments_lexer": "ipython3",
   "version": "3.10.9"
  }
 },
 "nbformat": 4,
 "nbformat_minor": 2
}
