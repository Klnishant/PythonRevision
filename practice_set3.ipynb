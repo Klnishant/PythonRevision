{
 "cells": [
  {
   "cell_type": "markdown",
   "metadata": {},
   "source": [
    "Q1. Create a dictionary called fruits with the following key-value pairs:\n",
    "\"apple\": 0.75\n",
    "\"banana\": 1.25\n",
    "\"orange\": 0.90\n",
    "Then, print out the price of a banana."
   ]
  },
  {
   "cell_type": "code",
   "execution_count": 1,
   "metadata": {},
   "outputs": [
    {
     "data": {
      "text/plain": [
       "{'apple': 0.75, 'banana': 1.25, 'orrange': 0.9}"
      ]
     },
     "execution_count": 1,
     "metadata": {},
     "output_type": "execute_result"
    }
   ],
   "source": [
    "dict = {\"apple\":0.75,\"banana\":1.25,\"orrange\":0.90}\n",
    "dict"
   ]
  },
  {
   "cell_type": "code",
   "execution_count": 3,
   "metadata": {},
   "outputs": [
    {
     "name": "stdout",
     "output_type": "stream",
     "text": [
      "price of banana is  1.25\n"
     ]
    }
   ],
   "source": [
    "print(\"price of banana is \",dict.get(\"banana\"))"
   ]
  },
  {
   "cell_type": "markdown",
   "metadata": {},
   "source": [
    "Q2. Create an empty dictionary called ages. Add the following key-value pairs to the dictionary:\n",
    "\"Alice\": 30\n",
    "\"Bob\": 25\n",
    "\"Charlie\": 35\n",
    "Then, print out the age of Charlie."
   ]
  },
  {
   "cell_type": "code",
   "execution_count": 13,
   "metadata": {},
   "outputs": [
    {
     "data": {
      "text/plain": [
       "{'Alice': 30, 'Bob': 25, 'Charlie': 35}"
      ]
     },
     "execution_count": 13,
     "metadata": {},
     "output_type": "execute_result"
    }
   ],
   "source": [
    "dict = {}\n",
    "\n",
    "dict.setdefault(\"Alice\",30)\n",
    "dict.setdefault(\"Bob\",25)\n",
    "dict.setdefault(\"Charlie\",35)\n",
    "dict"
   ]
  },
  {
   "cell_type": "code",
   "execution_count": 14,
   "metadata": {},
   "outputs": [
    {
     "name": "stdout",
     "output_type": "stream",
     "text": [
      "Age of Charlie is  35\n"
     ]
    }
   ],
   "source": [
    "print(\"Age of Charlie is \",dict.get(\"Charlie\"))"
   ]
  },
  {
   "cell_type": "markdown",
   "metadata": {},
   "source": [
    "Q3. Write a function called word_count(text) that takes a string as input and returns a dictionary where\n",
    "each key is a word in the text and its value is the number of times that word appears in the text. For\n",
    "example, word_count(\"hello world hello\") should return {\"hello\": 2, \"world\": 1}."
   ]
  },
  {
   "cell_type": "code",
   "execution_count": 22,
   "metadata": {},
   "outputs": [],
   "source": [
    "def word_count(text):\n",
    "    text=text.split(\" \")\n",
    "    dict = {}\n",
    "    for i in text:\n",
    "        count=0\n",
    "        for j in text:\n",
    "            if(i==j):\n",
    "                count=count+1\n",
    "        dict.setdefault(i,count)\n",
    "    return dict    "
   ]
  },
  {
   "cell_type": "code",
   "execution_count": 24,
   "metadata": {},
   "outputs": [
    {
     "data": {
      "text/plain": [
       "{'hello': 2, 'world': 1}"
      ]
     },
     "execution_count": 24,
     "metadata": {},
     "output_type": "execute_result"
    }
   ],
   "source": [
    "text = \"hello world hello\"\n",
    "word_count(text)"
   ]
  },
  {
   "cell_type": "markdown",
   "metadata": {},
   "source": [
    "Q4. Create a dictionary called phone_book with the following key-value pairs:\n",
    "\"Alice\": \"555-1234\"\n",
    "\"Bob\": \"555-5678\"\n",
    "\"Charlie\": \"555-9012\"\n",
    "Then, prompt the user to enter a name and print out the corresponding phone number. If the name is not\n",
    "in the phone book, print out a message saying that the name was not found."
   ]
  },
  {
   "cell_type": "code",
   "execution_count": 31,
   "metadata": {},
   "outputs": [
    {
     "name": "stdout",
     "output_type": "stream",
     "text": [
      "Phone number =  555-1234\n"
     ]
    }
   ],
   "source": [
    "phone_book = {\"Alice\": \"555-1234\",\"Bob\": \"555-5678\",\"Charlie\": \"555-9012\"}\n",
    "\n",
    "name = input(\"Enter the name:\")\n",
    "\n",
    "if(phone_book.get(name)==None):\n",
    "    print(\"Name was not found\")\n",
    "else:\n",
    "    print(\"Phone number = \",phone_book.get(name))"
   ]
  },
  {
   "cell_type": "markdown",
   "metadata": {},
   "source": [
    "Q5. Write a program that prompts the user to enter a number between 1 and 10. If the number is less than\n",
    "5, print out \"Too low!\", otherwise print out \"Too high!\"."
   ]
  },
  {
   "cell_type": "code",
   "execution_count": 33,
   "metadata": {},
   "outputs": [
    {
     "name": "stdout",
     "output_type": "stream",
     "text": [
      "Too low!\n"
     ]
    }
   ],
   "source": [
    "num = input(\"Enter the number between 1 and 10\")\n",
    "num = float(num)\n",
    "\n",
    "def comparison(num):\n",
    "    if(num<5.0):\n",
    "        print(\"Too low!\")\n",
    "    else:\n",
    "        print(\"Too high!\")\n",
    "\n",
    "comparison(num)"
   ]
  },
  {
   "cell_type": "markdown",
   "metadata": {},
   "source": [
    "Q6. Write a program that prompts the user to enter a password. If the password is \"password123\", print\n",
    "out \"Access granted\", otherwise print out \"Access denied\"."
   ]
  },
  {
   "cell_type": "code",
   "execution_count": 35,
   "metadata": {},
   "outputs": [
    {
     "name": "stdout",
     "output_type": "stream",
     "text": [
      "Access granted\n"
     ]
    }
   ],
   "source": [
    "def check_password(password):\n",
    "    if(password==\"password123\"):\n",
    "        print(\"Access granted\")\n",
    "    else:\n",
    "        print(\"Access denied\")\n",
    "    \n",
    "password = input(\"Enter the password:\")\n",
    "\n",
    "check_password(password)"
   ]
  },
  {
   "cell_type": "markdown",
   "metadata": {},
   "source": [
    "Q7. Write a program that prompts the user to enter a positive integer. Then, use a loop to print out all the\n",
    "odd numbers from 1 to that integer."
   ]
  },
  {
   "cell_type": "code",
   "execution_count": 37,
   "metadata": {},
   "outputs": [
    {
     "name": "stdout",
     "output_type": "stream",
     "text": [
      "Odd numbers till  50\n",
      "1\n",
      "3\n",
      "5\n",
      "7\n",
      "9\n",
      "11\n",
      "13\n",
      "15\n",
      "17\n",
      "19\n",
      "21\n",
      "23\n",
      "25\n",
      "27\n",
      "29\n",
      "31\n",
      "33\n",
      "35\n",
      "37\n",
      "39\n",
      "41\n",
      "43\n",
      "45\n",
      "47\n",
      "49\n"
     ]
    }
   ],
   "source": [
    "num = input(\"Enter the number\")\n",
    "\n",
    "num = int(num)\n",
    "\n",
    "print(\"Odd numbers till \",num)\n",
    "\n",
    "for i in range(1,num+1):\n",
    "    if(i%2!=0):\n",
    "        print(i)"
   ]
  },
  {
   "cell_type": "markdown",
   "metadata": {},
   "source": [
    "Q8. Write a program that generates a random number between 1 and 100 and then prompts the user to\n",
    "guess the number. If the user's guess is too low, print out \"Too low!\", if the guess is too high, print out \"Too\n",
    "high!\", and if the guess is correct, print out \"You win!\"."
   ]
  },
  {
   "cell_type": "code",
   "execution_count": 2,
   "metadata": {},
   "outputs": [
    {
     "name": "stdout",
     "output_type": "stream",
     "text": [
      "Too low!\n",
      "Too low!\n",
      "Too low!\n",
      "Too low!\n",
      "Too low!\n",
      "Too low!\n",
      "Too low!\n",
      "Too high!\n",
      "Too high!\n",
      "You win!\n"
     ]
    }
   ],
   "source": [
    "import numpy as np\n",
    "\n",
    "rand_int = np.random.randint(1,100)\n",
    "\n",
    "while(True):\n",
    "    num = input(\"Enter the number between 1 to 100 to guess\")\n",
    "    num = int(num)\n",
    "\n",
    "    if(num<rand_int):\n",
    "        print(\"Too low!\")\n",
    "    elif(num>rand_int):\n",
    "        print(\"Too high!\")\n",
    "    elif(num==rand_int):\n",
    "        print(\"You win!\")\n",
    "        break;"
   ]
  },
  {
   "cell_type": "markdown",
   "metadata": {},
   "source": [
    "Q9. Write a program that generates a random number between 1 and 10 and then prompts the user to\n",
    "guess the number. The user has three attempts to guess the number. If the user guesses correctly within\n",
    "three attempts, print out \"You win!\", otherwise print out \"You lose!\"."
   ]
  },
  {
   "cell_type": "code",
   "execution_count": 6,
   "metadata": {},
   "outputs": [
    {
     "name": "stdout",
     "output_type": "stream",
     "text": [
      "Try again\n",
      "Try again\n",
      "You lose!\n"
     ]
    }
   ],
   "source": [
    "import numpy as np\n",
    "\n",
    "rand_int = np.random.randint(1,10)\n",
    "\n",
    "attempt = 0\n",
    "\n",
    "while(attempt<=2):\n",
    "    num = input(\"Enter the number between 1 to 100 to guess\")\n",
    "    num = int(num)\n",
    "\n",
    "    if(num!=rand_int and attempt<2):\n",
    "        print('Try again')\n",
    "    elif(num==rand_int):\n",
    "        print(\"You win!\")\n",
    "        break;\n",
    "    elif(num!=rand_int and attempt>=2):\n",
    "        print('You lose!')\n",
    "    attempt +=1"
   ]
  },
  {
   "cell_type": "markdown",
   "metadata": {},
   "source": [
    "Q10. Write a program that prompts the user to enter their age and then prints out whether they are a child\n",
    "(age 0-12), a teenager (age 13-19), an adult (age 20-59), or a senior (age 60+)"
   ]
  },
  {
   "cell_type": "code",
   "execution_count": 7,
   "metadata": {},
   "outputs": [
    {
     "name": "stdout",
     "output_type": "stream",
     "text": [
      "You are an adult\n"
     ]
    }
   ],
   "source": [
    "age = input(\"Enter your age\")\n",
    "\n",
    "age = int(age)\n",
    "\n",
    "if(age>0 and age<=12):\n",
    "    print(\"You are a child\")\n",
    "elif(age>=13 and age<=19):\n",
    "    print(\"You are a teenager\")\n",
    "elif(age>=20 and age<=59):\n",
    "    print(\"You are an adult\")\n",
    "elif(age>=60):\n",
    "    print(\"You are a senior\")"
   ]
  },
  {
   "cell_type": "code",
   "execution_count": null,
   "metadata": {},
   "outputs": [],
   "source": []
  }
 ],
 "metadata": {
  "kernelspec": {
   "display_name": "base",
   "language": "python",
   "name": "python3"
  },
  "language_info": {
   "codemirror_mode": {
    "name": "ipython",
    "version": 3
   },
   "file_extension": ".py",
   "mimetype": "text/x-python",
   "name": "python",
   "nbconvert_exporter": "python",
   "pygments_lexer": "ipython3",
   "version": "3.10.9"
  }
 },
 "nbformat": 4,
 "nbformat_minor": 2
}
