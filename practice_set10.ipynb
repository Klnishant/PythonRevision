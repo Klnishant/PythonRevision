{
 "cells": [
  {
   "cell_type": "markdown",
   "metadata": {},
   "source": [
    "Q1. Write a Python program to create a MySQL database and a table."
   ]
  },
  {
   "cell_type": "code",
   "execution_count": 7,
   "metadata": {},
   "outputs": [],
   "source": [
    "import sqlite3\n",
    "\n",
    "def creat_database_and_table():\n",
    "    try:\n",
    "        connection = sqlite3.connect(\"example.db\")\n",
    "        print(\"Database example.db created and connected successfully\")\n",
    "\n",
    "        cursor = connection.cursor()\n",
    "\n",
    "        create_table_query = \"\"\"\n",
    "        CREATE TABLE IF NOT EXISTS users(\n",
    "        id INTEGER PRIMARY KEY AUTOINCREMENT,\n",
    "        name TEXT NOR NULL,\n",
    "        email TEXT UNIQUE NOT NULL,\n",
    "        created_at TIMESTAMP DEFAULT CURRENT_TIMESTAMP\n",
    "        )\"\"\"\n",
    "\n",
    "        cursor.execute(create_table_query)\n",
    "        print(\"Table users created successfully\")\n",
    "\n",
    "        connection.commit()\n",
    "    except sqlite3.Error as e:\n",
    "        print(f\"Error: {e}\")\n",
    "    finally:\n",
    "        if connection:\n",
    "            connection.close()\n",
    "            print(\"Sqlite connection closed\")"
   ]
  },
  {
   "cell_type": "code",
   "execution_count": 8,
   "metadata": {},
   "outputs": [
    {
     "name": "stdout",
     "output_type": "stream",
     "text": [
      "Database example.db created and connected successfully\n",
      "Table users created successfully\n",
      "Sqlite connection closed\n"
     ]
    }
   ],
   "source": [
    "creat_database_and_table()"
   ]
  },
  {
   "cell_type": "markdown",
   "metadata": {},
   "source": [
    "Q2. Write a Python program to insert data into a MySQL table."
   ]
  },
  {
   "cell_type": "code",
   "execution_count": 3,
   "metadata": {},
   "outputs": [
    {
     "name": "stdout",
     "output_type": "stream",
     "text": [
      "Collecting mysql-connector-python\n",
      "  Downloading mysql_connector_python-9.1.0-cp310-cp310-win_amd64.whl (16.1 MB)\n",
      "     ---------------------------------------- 16.1/16.1 MB 1.3 MB/s eta 0:00:00\n",
      "Installing collected packages: mysql-connector-python\n",
      "Successfully installed mysql-connector-python-9.1.0\n",
      "Note: you may need to restart the kernel to use updated packages.\n"
     ]
    },
    {
     "name": "stdout",
     "output_type": "stream",
     "text": [
      "Collecting mysql-connector-python\n",
      "  Downloading mysql_connector_python-9.1.0-cp310-cp310-win_amd64.whl (16.1 MB)\n",
      "     ---------------------------------------- 16.1/16.1 MB 1.0 MB/s eta 0:00:00\n",
      "Installing collected packages: mysql-connector-python\n",
      "Successfully installed mysql-connector-python-9.1.0\n"
     ]
    }
   ],
   "source": [
    "%pip install mysql-connector-python"
   ]
  },
  {
   "cell_type": "code",
   "execution_count": 4,
   "metadata": {},
   "outputs": [],
   "source": [
    "import mysql"
   ]
  },
  {
   "cell_type": "code",
   "execution_count": null,
   "metadata": {},
   "outputs": [],
   "source": [
    "import mysql.connector\n",
    "from mysql.connector import Error\n",
    "\n",
    "def mysql_example():\n",
    "    try:\n",
    "        # Connect to MySQL server\n",
    "        connection = mysql.connector.connect(\n",
    "            host='localhost',\n",
    "            user='root',  # Replace with your MySQL username\n",
    "            password='nishant'  # Replace with your MySQL password\n",
    "        )\n",
    "        \n",
    "        if connection.is_connected():\n",
    "            cursor = connection.cursor()\n",
    "            \n",
    "            # Create a database\n",
    "            cursor.execute(\"CREATE DATABASE IF NOT EXISTS mydb\")\n",
    "            print(\"Database 'mydb' created successfully.\")\n",
    "            \n",
    "            # Use the database\n",
    "            connection.database = 'mydb'\n",
    "            \n",
    "            # Create a table\n",
    "            create_table_query = \"\"\"\n",
    "            CREATE TABLE IF NOT EXISTS users (\n",
    "                id INT AUTO_INCREMENT PRIMARY KEY,\n",
    "                name VARCHAR(100),\n",
    "                email VARCHAR(100) UNIQUE,\n",
    "                created_at TIMESTAMP DEFAULT CURRENT_TIMESTAMP\n",
    "            )\n",
    "            \"\"\"\n",
    "            cursor.execute(create_table_query)\n",
    "            print(\"Table 'users' created successfully.\")\n",
    "            \n",
    "            # Insert data\n",
    "            insert_query = \"INSERT INTO users (name, email) VALUES (%s, %s)\"\n",
    "            data = [(\"Alice\", \"alice@example.com\"), (\"Bob\", \"bob@example.com\")]\n",
    "            cursor.executemany(insert_query, data)\n",
    "            connection.commit()\n",
    "            print(\"Data inserted successfully.\")\n",
    "    \n",
    "    except Error as e:\n",
    "        print(f\"MySQL Error: {e}\")\n",
    "    \n",
    "    finally:\n",
    "        if connection.is_connected():\n",
    "            cursor.close()\n",
    "            connection.close()\n",
    "            print(\"MySQL connection closed.\")\n",
    "\n",
    "mysql_example()\n"
   ]
  },
  {
   "cell_type": "code",
   "execution_count": null,
   "metadata": {},
   "outputs": [],
   "source": []
  },
  {
   "cell_type": "markdown",
   "metadata": {},
   "source": [
    "Q3. Write a Python program to create an index on a MySQL table."
   ]
  },
  {
   "cell_type": "markdown",
   "metadata": {},
   "source": [
    "Q4. Write a Python program to join two tables in MySQL."
   ]
  },
  {
   "cell_type": "markdown",
   "metadata": {},
   "source": [
    "Q5. Write a Python program to handle MySQL errors using exception handling."
   ]
  },
  {
   "cell_type": "markdown",
   "metadata": {},
   "source": [
    "Q6. Write a Python program to connect to a MongoDB database and insert data."
   ]
  },
  {
   "cell_type": "code",
   "execution_count": 5,
   "metadata": {},
   "outputs": [
    {
     "name": "stdout",
     "output_type": "stream",
     "text": [
      "Requirement already satisfied: pymongo in c:\\users\\klnis\\anaconda3\\lib\\site-packages (4.10.1)\n",
      "Requirement already satisfied: dnspython<3.0.0,>=1.16.0 in c:\\users\\klnis\\anaconda3\\lib\\site-packages (from pymongo) (2.7.0)\n",
      "Note: you may need to restart the kernel to use updated packages.\n"
     ]
    }
   ],
   "source": [
    "%pip install pymongo"
   ]
  },
  {
   "cell_type": "code",
   "execution_count": 6,
   "metadata": {},
   "outputs": [],
   "source": [
    "from pymongo import MongoClient\n",
    "\n",
    "def mongodb_example():\n",
    "    try:\n",
    "        client = MongoClient(\"mongodb://localhost:27017\")\n",
    "        print(\"Connected with mongodb successfully\")\n",
    "\n",
    "        db = client[\"mydb\"]\n",
    "        print(\"Created mongodb database successfully\")\n",
    "\n",
    "        collection = db[\"users\"]\n",
    "        print(\"Created mongodb collection successfully\")\n",
    "\n",
    "        data = [\n",
    "                {\"name\": \"Alice\", \"email\": \"alice@example.com\"},\n",
    "                {\"name\": \"Bob\", \"email\": \"bob@example.com\"}\n",
    "            ]\n",
    "        \n",
    "        collection.insert_many(data)\n",
    "    except Exception as e:\n",
    "        print(f\"Mongodb Error: {e}\")\n",
    "    finally:\n",
    "        client.close()\n",
    "        print(\"Mongodb connection closed\")"
   ]
  },
  {
   "cell_type": "code",
   "execution_count": 7,
   "metadata": {},
   "outputs": [
    {
     "name": "stdout",
     "output_type": "stream",
     "text": [
      "Connected with mongodb successfully\n",
      "Created mongodb database successfully\n",
      "Created mongodb collection successfully\n",
      "Mongodb connection closed\n"
     ]
    }
   ],
   "source": [
    "mongodb_example()"
   ]
  },
  {
   "cell_type": "markdown",
   "metadata": {},
   "source": [
    "Q7. Write a Python program to update data in a MongoDB database."
   ]
  },
  {
   "cell_type": "code",
   "execution_count": 11,
   "metadata": {},
   "outputs": [],
   "source": [
    "def update_data():\n",
    "    try:\n",
    "        client = MongoClient(\"mongodb://localhost:27017\")\n",
    "\n",
    "        db = client[\"mydb\"]\n",
    "\n",
    "        collection = db[\"users\"]\n",
    "        \n",
    "        collection.update_one({\"name\": \"Alice\"}, {\"$set\": {\"name\": \"Nishant\", \"email\": \"2bK4t@example.com\"}})\n",
    "        print(\"Data updated successfully\")\n",
    "    except Exception as e:\n",
    "        print(f\"Mongodb error: {e}\")\n",
    "    finally:\n",
    "        client.close()\n",
    "        print(\"Mongodb connection closed successfully\")"
   ]
  },
  {
   "cell_type": "code",
   "execution_count": 12,
   "metadata": {},
   "outputs": [
    {
     "name": "stdout",
     "output_type": "stream",
     "text": [
      "Data updated successfully\n",
      "Mongodb connection closed successfully\n"
     ]
    }
   ],
   "source": [
    "update_data()"
   ]
  },
  {
   "cell_type": "markdown",
   "metadata": {},
   "source": [
    "Q8. Write a Python program to handle MongoDB errors using exception handling."
   ]
  },
  {
   "cell_type": "code",
   "execution_count": 13,
   "metadata": {},
   "outputs": [
    {
     "name": "stdout",
     "output_type": "stream",
     "text": [
      "Connected to MongoDB server.\n",
      "Document inserted successfully.\n",
      "Duplicate Key Error: E11000 duplicate key error collection: testdb.testcollection index: _id_ dup key: { _id: 1 }, full error: {'index': 0, 'code': 11000, 'errmsg': 'E11000 duplicate key error collection: testdb.testcollection index: _id_ dup key: { _id: 1 }', 'keyPattern': {'_id': 1}, 'keyValue': {'_id': 1}}\n",
      "Operation Failure: $in needs an array, full error: {'ok': 0.0, 'errmsg': '$in needs an array', 'code': 2, 'codeName': 'BadValue'}\n",
      "MongoDB connection closed.\n"
     ]
    }
   ],
   "source": [
    "from pymongo import MongoClient, errors\n",
    "\n",
    "def handle_mongodb_errors():\n",
    "    try:\n",
    "        # Connect to MongoDB server\n",
    "        client = MongoClient(\"mongodb://localhost:27017/\", serverSelectionTimeoutMS=5000)\n",
    "        print(\"Connected to MongoDB server.\")\n",
    "        \n",
    "        # Access a database and collection\n",
    "        db = client[\"testdb\"]\n",
    "        collection = db[\"testcollection\"]\n",
    "        \n",
    "        # Example operation: Insert a document\n",
    "        try:\n",
    "            collection.insert_one({\"_id\": 1, \"name\": \"Alice\"})\n",
    "            print(\"Document inserted successfully.\")\n",
    "            \n",
    "            # Try inserting a document with a duplicate _id to raise an error\n",
    "            collection.insert_one({\"_id\": 1, \"name\": \"Bob\"})\n",
    "        \n",
    "        except errors.DuplicateKeyError as e:\n",
    "            print(f\"Duplicate Key Error: {e}\")\n",
    "        \n",
    "        # Example operation: Query with a potential syntax error\n",
    "        try:\n",
    "            result = collection.find({\"invalid_field\": {\"$in\": \"value\"}})  # Invalid $in syntax\n",
    "            for doc in result:\n",
    "                print(doc)\n",
    "        \n",
    "        except errors.OperationFailure as e:\n",
    "            print(f\"Operation Failure: {e}\")\n",
    "    \n",
    "    except errors.ServerSelectionTimeoutError as e:\n",
    "        print(f\"Server Selection Timeout Error: Unable to connect to MongoDB server. {e}\")\n",
    "    \n",
    "    except errors.ConnectionError as e:\n",
    "        print(f\"Connection Error: {e}\")\n",
    "    \n",
    "    except Exception as e:\n",
    "        print(f\"An unexpected error occurred: {e}\")\n",
    "    \n",
    "    finally:\n",
    "        try:\n",
    "            client.close()\n",
    "            print(\"MongoDB connection closed.\")\n",
    "        except Exception as e:\n",
    "            print(f\"Error while closing the connection: {e}\")\n",
    "\n",
    "# Run the function\n",
    "handle_mongodb_errors()\n"
   ]
  },
  {
   "cell_type": "markdown",
   "metadata": {},
   "source": [
    "Q9. Write a Python program to query a MongoDB database using aggregation."
   ]
  },
  {
   "cell_type": "code",
   "execution_count": 16,
   "metadata": {},
   "outputs": [],
   "source": [
    "def query_with_aggregation():\n",
    "    try:\n",
    "        client=MongoClient(\"mongodb://localhost:27017\")\n",
    "        print(\"Connect with mongodb successfully\")\n",
    "        \n",
    "        db=client[\"sales_db\"]\n",
    "        collection=db[\"orders\"]\n",
    "\n",
    "        result=collection.aggregate([\n",
    "            {\n",
    "                \"$group\":{\n",
    "                    \"_id\":\"$customer_id\",\n",
    "                    \"total_ammount\":{\"$sum\":\"$ammount\"},\n",
    "                    \"order_count\":{\"$sum\":1}\n",
    "                }\n",
    "            },\n",
    "            {\n",
    "                \"$sort\":{\"total_ammount\":-1}\n",
    "            },\n",
    "            {\n",
    "                \"$limit\":5\n",
    "            }\n",
    "        ])\n",
    "\n",
    "        print(\"Top 5 custommers by ammount\")\n",
    "\n",
    "        for doc in result:\n",
    "            print(doc)\n",
    "    except Exception as e:\n",
    "        print(f\"Mongodb Error: {e}\")\n",
    "    finally:\n",
    "        client.close()\n",
    "        print(\"Mongodb Collection closed\")"
   ]
  },
  {
   "cell_type": "code",
   "execution_count": 15,
   "metadata": {},
   "outputs": [
    {
     "name": "stdout",
     "output_type": "stream",
     "text": [
      "Connect with mongodb successfully\n",
      "Top 5 custommers by ammount\n",
      "Mongodb Collection closed\n"
     ]
    }
   ],
   "source": [
    "query_with_aggregation()"
   ]
  },
  {
   "cell_type": "markdown",
   "metadata": {},
   "source": [
    "Q10. Write a Python program to perform a text search on a MongoDB database."
   ]
  },
  {
   "cell_type": "code",
   "execution_count": 17,
   "metadata": {},
   "outputs": [
    {
     "name": "stdout",
     "output_type": "stream",
     "text": [
      "Connected to MongoDB server.\n",
      "Text index created on the 'content' field.\n",
      "Documents matching the search 'Python programming':\n",
      "MongoDB connection closed.\n"
     ]
    }
   ],
   "source": [
    "from pymongo import MongoClient\n",
    "\n",
    "def text_search_in_mongodb():\n",
    "    try:\n",
    "        # Connect to MongoDB server\n",
    "        client = MongoClient(\"mongodb://localhost:27017/\")\n",
    "        print(\"Connected to MongoDB server.\")\n",
    "        \n",
    "        # Access the database and collection\n",
    "        db = client[\"text_search_db\"]\n",
    "        collection = db[\"articles\"]\n",
    "        \n",
    "        # Create a text index (if not already created)\n",
    "        collection.create_index([(\"content\", \"text\")])\n",
    "        print(\"Text index created on the 'content' field.\")\n",
    "        \n",
    "        # Perform a text search\n",
    "        search_query = \"Python programming\"\n",
    "        result = collection.find({\"$text\": {\"$search\": search_query}})\n",
    "        \n",
    "        # Display the results\n",
    "        print(f\"Documents matching the search '{search_query}':\")\n",
    "        for doc in result:\n",
    "            print(doc)\n",
    "    \n",
    "    except Exception as e:\n",
    "        print(f\"An error occurred: {e}\")\n",
    "    \n",
    "    finally:\n",
    "        client.close()\n",
    "        print(\"MongoDB connection closed.\")\n",
    "\n",
    "# Run the function\n",
    "text_search_in_mongodb()\n"
   ]
  },
  {
   "cell_type": "code",
   "execution_count": null,
   "metadata": {},
   "outputs": [],
   "source": []
  }
 ],
 "metadata": {
  "kernelspec": {
   "display_name": "base",
   "language": "python",
   "name": "python3"
  },
  "language_info": {
   "codemirror_mode": {
    "name": "ipython",
    "version": 3
   },
   "file_extension": ".py",
   "mimetype": "text/x-python",
   "name": "python",
   "nbconvert_exporter": "python",
   "pygments_lexer": "ipython3",
   "version": "3.10.9"
  }
 },
 "nbformat": 4,
 "nbformat_minor": 2
}
